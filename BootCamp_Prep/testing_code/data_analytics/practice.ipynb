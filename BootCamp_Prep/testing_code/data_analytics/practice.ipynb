{
 "cells": [
  {
   "cell_type": "code",
   "execution_count": 26,
   "metadata": {},
   "outputs": [
    {
     "name": "stdout",
     "output_type": "stream",
     "text": [
      "['apple', 'banana', 'dates', 'kiwi', 'mango', 'orange', 'pineapple', 'strawberry']\n",
      "['dates', 'kiwi', 'orange']\n"
     ]
    },
    {
     "data": {
      "text/plain": [
       "['dates', 'kiwi']"
      ]
     },
     "execution_count": 26,
     "metadata": {},
     "output_type": "execute_result"
    }
   ],
   "source": [
    "fruits = ['mango', 'apple', 'pineapple', 'banana', 'strawberry']\n",
    "fruits2 = ['dates','kiwi','orange']\n",
    "\n",
    "fruits3 = fruits2 + fruits\n",
    "fruits3.sort()\n",
    "print(fruits3)\n",
    "fruits2_copy = fruits2.copy()\n",
    "fruits2_copy.pop()\n",
    "print(fruits2)\n",
    "fruits2_copy"
   ]
  },
  {
   "cell_type": "code",
   "execution_count": 27,
   "metadata": {},
   "outputs": [
    {
     "name": "stdout",
     "output_type": "stream",
     "text": [
      "47\n",
      "True\n",
      "dict_keys(['first_name', 'last_name', 'age', 'gender', 'married'])\n",
      "Carre\n"
     ]
    }
   ],
   "source": [
    "person = {\n",
    "    'first_name': 'karl',\n",
    "    'last_name': 'carre',\n",
    "    'age': 47,\n",
    "    'gender': 'male',\n",
    "    'married': 'false'\n",
    "}\n",
    "print(person['age'])\n",
    "print('first_name' in person)\n",
    "print(person.keys())\n",
    "print(person['last_name'].capitalize())"
   ]
  },
  {
   "cell_type": "code",
   "execution_count": 28,
   "metadata": {},
   "outputs": [
    {
     "name": "stdout",
     "output_type": "stream",
     "text": [
      "The number 15 is odd\n"
     ]
    }
   ],
   "source": [
    "# conditional_statements:\n",
    "\n",
    "# if condition:\n",
    "#     x = true_value\n",
    "# else:\n",
    "#     x = false_value\n",
    "\n",
    "# x = true_value if condition else false value\n",
    "\n",
    "a_number = 15\n",
    "if a_number % 2 == 0:\n",
    "    parity = 'even'\n",
    "else:\n",
    "    parity = \"odd\"\n",
    "print(f'The number {a_number} is {parity}')\n"
   ]
  },
  {
   "cell_type": "code",
   "execution_count": 29,
   "metadata": {},
   "outputs": [
    {
     "name": "stdout",
     "output_type": "stream",
     "text": [
      "The number 15 is odd\n"
     ]
    }
   ],
   "source": [
    "parity = 'even' if a_number % 2 == 0 else 'odd'\n",
    "print(f\"The number {a_number} is {parity}\")"
   ]
  },
  {
   "cell_type": "code",
   "execution_count": 7,
   "metadata": {},
   "outputs": [
    {
     "name": "stdout",
     "output_type": "stream",
     "text": [
      "917\n",
      "720\n",
      "The lowest EMI will be option 2 at $720 per month.\n"
     ]
    }
   ],
   "source": [
    "from math import*\n",
    "\n",
    "# cost_of_house = 1260000\n",
    "# down_payment = 300000\n",
    "interest_rate1 = 0.09161 \n",
    "interest_rate2 = 0.09\n",
    "duration1 = 96\n",
    "duration2 = 120\n",
    "\n",
    "def lowest_emi(cost_of_house, down_payment):\n",
    "  \n",
    "    emi1 = ((cost_of_house - down_payment) / duration1 ) * interest_rate1\n",
    "    emi2 = ((cost_of_house - down_payment) / duration2 ) * interest_rate2\n",
    "    print(ceil(emi1))\n",
    "    print(ceil(emi2))\n",
    "\n",
    "    # if emi1 > emi2:\n",
    "    #     print(f\"The lowest EMI will be option 2 at {ceil(emi2)} per month.\")\n",
    "    # else:\n",
    "    #     print(f\"The lowest EMI will be option 1 at {ceil(emi1)} per month.\")\n",
    "\n",
    "    print(f\"The lowest EMI will be option 2 at ${ceil(emi2)} per month.\") if emi1 > emi2 else print(f\"The lowest EMI will be option 1 at ${ceil(emi1)} per month.\")\n",
    "\n",
    "lowest_emi(1260000, 300000)"
   ]
  },
  {
   "cell_type": "markdown",
   "metadata": {},
   "source": [
    "Given some climate data for a region, we can now predict the yield of apples. Here's some sample data:\n",
    "\n",
    "<img src=\"https://i.imgur.com/TXPBiqv.png\" style=\"width:360px;\">\n",
    "\n",
    "To begin, we can define some variables to record climate data for a region.\n",
    "\n",
    "yield_of_apples = w1 * temperature + w2 * rainfall + w3 * humidity\n",
    "\n",
    "w1, w2, w3 = 0.3, 0.2, 0.5"
   ]
  },
  {
   "cell_type": "code",
   "execution_count": null,
   "metadata": {},
   "outputs": [],
   "source": []
  }
 ],
 "metadata": {
  "kernelspec": {
   "display_name": "Python 3",
   "language": "python",
   "name": "python3"
  },
  "language_info": {
   "codemirror_mode": {
    "name": "ipython",
    "version": 3
   },
   "file_extension": ".py",
   "mimetype": "text/x-python",
   "name": "python",
   "nbconvert_exporter": "python",
   "pygments_lexer": "ipython3",
   "version": "3.12.3"
  }
 },
 "nbformat": 4,
 "nbformat_minor": 2
}

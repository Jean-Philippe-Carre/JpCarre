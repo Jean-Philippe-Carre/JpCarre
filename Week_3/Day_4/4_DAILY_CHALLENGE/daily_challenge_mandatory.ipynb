{
 "cells": [
  {
   "cell_type": "code",
   "execution_count": 1,
   "metadata": {},
   "outputs": [
    {
     "name": "stdout",
     "output_type": "stream",
     "text": [
      "\n",
      " Multiples of 10 : [10, 20, 30, 40, 50, 60, 70] \n",
      "\n"
     ]
    }
   ],
   "source": [
    "# Challenge 1:\n",
    "\n",
    "# (1) Ask the user for a number and a length.\n",
    "# (2) Create a program that prints a list of multiples of the number until the list length reaches length.\n",
    "\n",
    "\n",
    "user_input1 = int(input('\\n Enter a number: '))\n",
    "user_input2 = int(input('\\n Enter no of iterations: '))\n",
    "\n",
    "count = 0\n",
    "list = []\n",
    "\n",
    "for n in range(1, user_input2+1):\n",
    "    count += 1\n",
    "    multiples = user_input1*count\n",
    "    list.append(multiples)\n",
    "print('\\n Multiples of', user_input1, ':', list, '\\n')"
   ]
  },
  {
   "cell_type": "code",
   "execution_count": 6,
   "metadata": {},
   "outputs": [
    {
     "name": "stdout",
     "output_type": "stream",
     "text": [
      "\n",
      " You meant 'karl',right...\n",
      "\n"
     ]
    }
   ],
   "source": [
    "# SOMETIMES IN JUPYTER NB list in list1 = list(dict.fromkeys(user_input)) IS DECLARED AS A VARIABLE INSTEAD OF A CLASS ( ITS COLOR IS LIGHT BLUE INSTEAD OF GREEN), AND THE PROGRAM BREAKS. IF IT HAPPENS HERE, RUN THE PROGRAM IN A NORMAL PY FILE, IT WON'T HAVE ANY ISSUE THERE.\n",
    "\n",
    "\n",
    "\n",
    "# Challenge 2:\n",
    "\n",
    "# Write a program that asks a string to the user, and display a new string with any duplicate consecutive letters removed.\n",
    "\n",
    "user_input = input(\n",
    "    '\\n Enter any word, but duplicate some letters in the word,ie \\'ppoeem\\': ')\n",
    "\n",
    "list1 = list(dict.fromkeys(user_input))\n",
    "# print('\\n',list)\n",
    "\n",
    "new_word = ''.join(list1)\n",
    "print('\\n You meant '+'\\''+new_word+'\\''+',right...\\n')"
   ]
  }
 ],
 "metadata": {
  "kernelspec": {
   "display_name": "Python 3",
   "language": "python",
   "name": "python3"
  },
  "language_info": {
   "codemirror_mode": {
    "name": "ipython",
    "version": 3
   },
   "file_extension": ".py",
   "mimetype": "text/x-python",
   "name": "python",
   "nbconvert_exporter": "python",
   "pygments_lexer": "ipython3",
   "version": "3.12.3"
  }
 },
 "nbformat": 4,
 "nbformat_minor": 2
}

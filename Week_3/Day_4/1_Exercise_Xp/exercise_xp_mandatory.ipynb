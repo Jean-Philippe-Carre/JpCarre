{
 "cells": [
  {
   "cell_type": "code",
   "execution_count": 12,
   "metadata": {},
   "outputs": [
    {
     "name": "stdout",
     "output_type": "stream",
     "text": [
      "My favorite numbers: {32, 9, 10}\n",
      "My updated favorite numbers: {32, 9, 10, 15, 23}\n",
      "My favorite numbers, after deleting the last number: {32, 9, 10, 15}\n",
      "My friend's favorite numbers: {18, 99, 89, 11, 78}\n",
      "My friend's and i favorite numbers: {32, 99, 9, 10, 11, 78, 15, 18, 89}\n"
     ]
    }
   ],
   "source": [
    "# Exercise 1:\n",
    "\n",
    "# (1) Create a set called my_fav_numbers with all your favorites numbers.\n",
    "# (2) Add two new numbers to the set.\n",
    "# (3) Remove the last number.\n",
    "# (4) Create a set called friend_fav_numbers with your friend’s favorites numbers.\n",
    "# (5) Concatenate my_fav_numbers and friend_fav_numbers to a new variable called our_fav_numbers.\n",
    "\n",
    "my_fav_numbers = {9, 10, 32}\n",
    "\n",
    "print('My favorite numbers:',my_fav_numbers)\n",
    "\n",
    "new_numbers = [15, 23]\n",
    "\n",
    "my_fav_numbers.update(new_numbers)\n",
    "\n",
    "print('My updated favorite numbers:',my_fav_numbers)\n",
    "\n",
    "my_fav_numbers.discard(23)\n",
    "\n",
    "print('My favorite numbers, after deleting the last number:',my_fav_numbers)\n",
    "\n",
    "friend_fav_numbers = {11, 18, 78, 89, 99}\n",
    "\n",
    "print(\"My friend's favorite numbers:\",friend_fav_numbers)\n",
    "\n",
    "our_fav_numbers = my_fav_numbers.union(friend_fav_numbers)\n",
    "\n",
    "print('My friend\\'s and i favorite numbers:',our_fav_numbers)"
   ]
  },
  {
   "cell_type": "code",
   "execution_count": null,
   "metadata": {},
   "outputs": [],
   "source": [
    "# Exercise 2:\n",
    "\n",
    "# Given a tuple which value is integers, is it possible to add more integers to the tuple?\n",
    "\n",
    "# Ans: No, tuples are immutable, they cannot be modified.\n"
   ]
  },
  {
   "cell_type": "code",
   "execution_count": 23,
   "metadata": {},
   "outputs": [
    {
     "name": "stdout",
     "output_type": "stream",
     "text": [
      "This is my basket:\n",
      " ['banana', 'apples', 'oranges', 'blueberries'] \n",
      "\n",
      "Removing bananas and blueberries from basket:\n",
      " ['apples', 'oranges'] \n",
      "\n",
      "Adding kiwi to the end of list & apples to the beginning of list:\n",
      " ['apples', 'apples', 'oranges', 'kiwi'] \n",
      "\n",
      "There are  2 items named 'apples' in basket\n",
      "\n",
      "Emptying the basket:\n",
      " []\n"
     ]
    }
   ],
   "source": [
    "# Exercise 3:\n",
    "\n",
    "# Using this list basket = [\"Banana\", \"Apples\", \"Oranges\", \"Blueberries\"];\n",
    "\n",
    "# (1) Remove “Banana” from the list.\n",
    "# (2) Remove “Blueberries” from the list.\n",
    "# (3) Add “Kiwi” to the end of the list.\n",
    "# (4) Add “Apples” to the beginning of the list.\n",
    "# (5) Count how many apples are in the basket.\n",
    "# (6) Empty the basket.\n",
    "# (7) Print(basket)\n",
    "\n",
    "basket = ['banana', 'apples', 'oranges', 'blueberries']\n",
    "print('This is my basket:\\n',basket,'\\n')\n",
    "\n",
    "basket.pop(0)\n",
    "basket.pop(2)\n",
    "print('Removing bananas and blueberries from basket:\\n',basket,'\\n')\n",
    "\n",
    "basket.append('kiwi')\n",
    "basket.insert(0, 'apples')\n",
    "print('Adding kiwi to the end of list & apples to the beginning of list:\\n',basket,\"\\n\")\n",
    "\n",
    "print('There are ', basket.count('apples'), 'items named \\'apples\\' in basket\\n')\n",
    "\n",
    "basket.clear()\n",
    "print('Emptying the basket:\\n', basket)\n"
   ]
  },
  {
   "cell_type": "code",
   "execution_count": 26,
   "metadata": {},
   "outputs": [
    {
     "name": "stdout",
     "output_type": "stream",
     "text": [
      "[1.5, 2.0, 2.5, 3.0, 3.5, 4.0, 4.5, 5.0]\n"
     ]
    }
   ],
   "source": [
    "# Exercise 4:\n",
    "\n",
    "# Create a list containing the following sequence 1.5, 2, 2.5, 3, 3.5, 4, 4.5, 5 (don’t hard-code the sequence).\n",
    "\n",
    "import numpy as np\n",
    "\n",
    "print(np.arange(1.5, 5.5, 0.5).tolist())"
   ]
  },
  {
   "cell_type": "code",
   "execution_count": 30,
   "metadata": {},
   "outputs": [
    {
     "name": "stdout",
     "output_type": "stream",
     "text": [
      "1\n",
      "2\n",
      "3\n",
      "4\n",
      "5\n",
      "6\n",
      "7\n",
      "8\n",
      "9\n",
      "10\n",
      "11\n",
      "12\n",
      "13\n",
      "14\n",
      "15\n",
      "16\n",
      "17\n",
      "18\n",
      "19\n",
      "20\n",
      "\n",
      "\n",
      "1\n",
      "3\n",
      "5\n",
      "7\n",
      "9\n",
      "11\n",
      "13\n",
      "15\n",
      "17\n",
      "19\n"
     ]
    }
   ],
   "source": [
    "# Exercise 5: \n",
    "\n",
    "# (1) Use a for loop to print all numbers from 1 to 20, inclusive.\n",
    "# (2) Using a for loop, that loops from 1 to 20(inclusive), print out every element which has an even index.\n",
    "\n",
    "num = list(range(1, 21))\n",
    "\n",
    "for number in num:\n",
    "    print(number,)\n",
    "print('\\n')\n",
    "\n",
    "for number in num[0:20:2]:\n",
    "    print(number)"
   ]
  },
  {
   "cell_type": "code",
   "execution_count": 32,
   "metadata": {},
   "outputs": [
    {
     "name": "stdout",
     "output_type": "stream",
     "text": [
      "Try again\n",
      "Try again\n",
      "We have the same name!!!\n"
     ]
    }
   ],
   "source": [
    "# Exercise 6:\n",
    "\n",
    "# Write a while loop that will continuously ask the user for their name, unless the input is equal to your name.\n",
    "\n",
    "my_name = 'karl'\n",
    "\n",
    "while True:\n",
    "    user_input = input('Enter your name: ')\n",
    "    if user_input == my_name:\n",
    "        print('We have the same name!!!')\n",
    "        break\n",
    "    else:\n",
    "        print('Try again')"
   ]
  },
  {
   "cell_type": "code",
   "execution_count": 35,
   "metadata": {},
   "outputs": [
    {
     "name": "stdout",
     "output_type": "stream",
     "text": [
      "['apple', 'banana', 'kiwi']\n",
      "You chose one of your favourite fruits, enjoy!!\n"
     ]
    }
   ],
   "source": [
    "# Exercise 7:\n",
    "\n",
    "# (1) Ask the user to input their favorite fruit(s) (one or several fruits).\n",
    "# Hint : Use the built in input method. Ask the user to separate the fruits with a single space, eg. \"apple mango cherry\".\n",
    "# (2) Store the favorite fruit(s) in a list (convert the string of words into a list of words).\n",
    "# (3) Now that we have a list of fruits, ask the user to input a name of any fruit.\n",
    "# If the user’s input is in the favorite fruits list, print “You chose one of your favorite fruits! Enjoy!”.\n",
    "# If the user’s input is NOT in the list, print, “You chose a new fruit. I hope you enjoy”.\n",
    "\n",
    "user_input = input(\n",
    "    'Enter your favourite fruits, leave a space between the answers, no comas: ')\n",
    "\n",
    "fav_fruits = user_input.split()\n",
    "\n",
    "print(fav_fruits)\n",
    "\n",
    "user_input2 = input('Enter any fruit: ')\n",
    "if user_input2 in fav_fruits:\n",
    "    print('You chose one of your favourite fruits, enjoy!!')\n",
    "else:\n",
    "    print('You chose a new fruit, i hope you enjoy...')\n",
    "\n",
    "# split_method-convert_strings_into_lists"
   ]
  },
  {
   "cell_type": "code",
   "execution_count": 37,
   "metadata": {},
   "outputs": [
    {
     "name": "stdout",
     "output_type": "stream",
     "text": [
      "spinach will be added to your pizza\n",
      "aubergine will be added to your pizza\n",
      "caramelised onion will be added to your pizza\n",
      "['spinach', 'aubergine', 'caramelised onion'] will be added to your pizza.\n",
      " Total price for pizza and toppings: usd 17.5\n"
     ]
    }
   ],
   "source": [
    "# Exercise 8:\n",
    "\n",
    "# (1) Write a loop that asks a user to enter a series of pizza toppings, when the user inputs ‘quit’ stop asking for toppings.\n",
    "# (2) As they enter each topping, print a message saying you’ll add that topping to their pizza.\n",
    "# (3) Upon exiting the loop print all the toppings on the pizza pie and what the total price is (10 + 2.5 for each topping).\n",
    "\n",
    "topping_list = []\n",
    "while True:\n",
    "    user_input = input('Enter topping, when you are done, enter \\'quit\\': ')\n",
    "    if user_input == 'quit':\n",
    "        break\n",
    "    else:\n",
    "        print(f'{user_input} will be added to your pizza')\n",
    "        topping_list.append(user_input)\n",
    "        toppings_price = 2.5 * len(topping_list)\n",
    "        total_price = 10 + toppings_price\n",
    "\n",
    "print(f'{topping_list} will be added to your pizza.\\n Total price for pizza and toppings: usd {total_price}')"
   ]
  },
  {
   "cell_type": "code",
   "execution_count": 38,
   "metadata": {},
   "outputs": [
    {
     "name": "stdout",
     "output_type": "stream",
     "text": [
      "1 baby: Free\n",
      "1 adult: $ 15\n",
      "1 person(s) between 3 & 12: $ 10\n",
      "Your booking:\n",
      " 1 baby(ies): Free\n",
      " 1 person(s) between 3 & 12: 10\n",
      " 1 adult(s): 15\n",
      "  Total cost: 25\n"
     ]
    }
   ],
   "source": [
    "# Exercise 9:\n",
    "\n",
    "# (1) A movie theater charges different ticket prices depending on a person’s age.\n",
    "# if a person is under the age of 3, the ticket is free.\n",
    "# if they are between 3 and 12, the ticket is $10.\n",
    "# if they are over the age of 12, the ticket is $15.\n",
    "\n",
    "# (2) Ask a family the age of each person who wants a ticket.\n",
    "\n",
    "# (3) Store the total cost of all the family’s tickets and print it out.\n",
    "\n",
    "# (4) A group of teenagers are coming to your movie theater and want to watch a movie that is restricted for people between the ages of 16 and 21.\n",
    "# Given a list of names, write a program that asks teenager for their age, if they are not permitted to watch the movie, remove them from the list.\n",
    "# At the end, print the final list.\n",
    "\n",
    "\n",
    "baby_ticket = 0\n",
    "children_ticket = 10\n",
    "adult_ticket = 15\n",
    "\n",
    "baby_count = 0\n",
    "children_count = 0\n",
    "adult_count = 0\n",
    "\n",
    "while True:\n",
    "    age = input('Enter age please, when you have finished, enter \\'quit\\': ')\n",
    "    if age == 'quit':\n",
    "        break\n",
    "    else:\n",
    "        if int(age) <= 3:\n",
    "            baby_count += 1\n",
    "            print(f'{baby_count} baby: Free')\n",
    "\n",
    "        elif int(age) > 3 and int(age) <= 12:\n",
    "            children_count += 1\n",
    "            total_children_cost = (children_count * 10)\n",
    "            print(f'{children_count} person(s) between 3 & 12: $ {\n",
    "                  total_children_cost}')\n",
    "\n",
    "        elif int(age) > 12:\n",
    "            adult_count += 1\n",
    "            total_adult_cost = (adult_count * 15)\n",
    "            print(f'{adult_count} adult: $ {total_adult_cost}')\n",
    "\n",
    "total_cost = (total_children_cost + total_adult_cost)\n",
    "print(f'Your booking:\\n {baby_count} baby(ies): Free\\n {children_count} person(s) between 3 & 12: {\n",
    "      total_children_cost}\\n {adult_count} adult(s): {total_adult_cost}\\n  Total cost: {total_cost}')"
   ]
  },
  {
   "cell_type": "code",
   "execution_count": 39,
   "metadata": {},
   "outputs": [
    {
     "name": "stdout",
     "output_type": "stream",
     "text": [
      "\n",
      "\n",
      " Sandwich Orders:\n",
      " , tuna sandwich, pastrami sandwich, avocado sandwich, pastrami sandwich, egg sandwich, chicken sandwich, pastrami sandwich\n",
      "\n",
      " Sandwich Orders:\n",
      " , tuna sandwich, avocado sandwich, egg sandwich, chicken sandwich\n",
      "\n",
      "\t Remaining sandwiches to be prepared: , avocado sandwich, egg sandwich, chicken sandwich\n",
      "\n",
      "\t Remaining sandwiches to be prepared: , avocado sandwich, chicken sandwich\n",
      "\n",
      "\t Remaining sandwiches to be prepared: , avocado sandwich\n",
      "\n",
      "\t Remaining sandwiches to be prepared: \n",
      "\n",
      " I made your:\n",
      "\t\n",
      "tuna sandwich\n",
      "egg sandwich\n",
      "chicken sandwich\n",
      "avocado sandwich\n",
      "\n",
      "\n"
     ]
    }
   ],
   "source": [
    "# Exercise 10:\n",
    "\n",
    "# Using the list below :\n",
    "\n",
    "# sandwich_orders = [\"Tuna sandwich\", \"Pastrami sandwich\", \"Avocado sandwich\", \"Pastrami sandwich\", \"Egg sandwich\", \"Chicken sandwich\", \"Pastrami sandwich\"]\n",
    "\n",
    "# (1) The deli has run out of pastrami, use a while loop to remove all occurrences of “Pastrami sandwich” from sandwich_orders.\n",
    "# (2) We need to prepare the orders of the clients:\n",
    "# Create an empty list called finished_sandwiches.\n",
    "# One by one, remove each sandwich from the sandwich_orders while adding them to the finished_sandwiches list.\n",
    "# (3) After all the sandwiches have been made, print a message listing each sandwich that was made, such as:\n",
    "# I made your tuna sandwich\n",
    "# I made your avocado sandwich\n",
    "# I made your egg sandwich\n",
    "# I made your chicken sandwich\n",
    "\n",
    "sandwich_orders = ['tuna sandwich', 'pastrami sandwich', 'avocado sandwich',\n",
    "     'pastrami sandwich', 'egg sandwich', 'chicken sandwich', 'pastrami sandwich']\n",
    "\n",
    "print('\\n\\n Sandwich Orders:\\n ', *sandwich_orders, sep=\", \")\n",
    "\n",
    "while True:\n",
    "    out_of_sandwich = input(\n",
    "        '\\n\\t Any sandwiches unavailable? ( Enter \\'no\\' when done ): ')\n",
    "    if out_of_sandwich == 'no':\n",
    "        break\n",
    "\n",
    "    while True:\n",
    "        if out_of_sandwich in sandwich_orders:\n",
    "            sandwich_orders.remove(out_of_sandwich)\n",
    "        else:\n",
    "            break\n",
    "\n",
    "print('\\n Sandwich Orders:\\n ', *sandwich_orders, sep=\", \")\n",
    "\n",
    "finished_sandwiches = []\n",
    "prepared_sandwiches = []\n",
    "\n",
    "while True:\n",
    "   prepared_sandwiches = input(\n",
    "        '\\n Enter sandwich which is already prepared ( When all sandwiches are prepared, enter \\'done\\'): ')\n",
    "   if prepared_sandwiches == 'done':\n",
    "       break\n",
    "\n",
    "   else:\n",
    "      sandwich_orders.remove(prepared_sandwiches)\n",
    "      finished_sandwiches.append(prepared_sandwiches)\n",
    "      print('\\n\\t Remaining sandwiches to be prepared: ', *sandwich_orders, sep=\", \")\n",
    "\n",
    "print('\\n I made your:\\n\\t', *finished_sandwiches, sep='\\n')\n",
    "print('\\n')"
   ]
  }
 ],
 "metadata": {
  "kernelspec": {
   "display_name": "Python 3",
   "language": "python",
   "name": "python3"
  },
  "language_info": {
   "codemirror_mode": {
    "name": "ipython",
    "version": 3
   },
   "file_extension": ".py",
   "mimetype": "text/x-python",
   "name": "python",
   "nbconvert_exporter": "python",
   "pygments_lexer": "ipython3",
   "version": "3.12.3"
  }
 },
 "nbformat": 4,
 "nbformat_minor": 2
}

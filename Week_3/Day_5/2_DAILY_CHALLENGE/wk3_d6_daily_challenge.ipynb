{
 "cells": [
  {
   "cell_type": "code",
   "execution_count": 2,
   "metadata": {},
   "outputs": [
    {
     "name": "stdout",
     "output_type": "stream",
     "text": [
      "froggy\n",
      "{'f': [0], 'r': [1], 'o': [2], 'g': [3, 4], 'y': [5]}\n"
     ]
    }
   ],
   "source": [
    "# Challenge 1:\n",
    "\n",
    "# (1) Ask a user for a word\n",
    "# Write a program that creates a dictionary. This dictionary stores the indexes of each letter in a list.\n",
    "\n",
    "# . Make sure the letters are the keys.\n",
    "# . Make sure the letters are strings.\n",
    "# . Make sure the indexes are stored in a list and those lists are values.\n",
    "\n",
    "# \"dodo\" ➞ { \"d\": [0, 2], \"o\": [1, 3] }\n",
    "# \"froggy\" ➞ { \"f\":  [0], \"r\": [1], \"o\": [2], \"g\": [3, 4], \"y\": [5] }\n",
    "\n",
    "word = input('Enter a word please: ')\n",
    "print(word)\n",
    "dict = {}\n",
    "\n",
    "for index, char in enumerate(word):\n",
    "    if char in dict:\n",
    "        dict[char].append(index)\n",
    "    else:\n",
    "        dict[char] = [index]\n",
    "\n",
    "print(dict)"
   ]
  },
  {
   "cell_type": "code",
   "execution_count": 1,
   "metadata": {},
   "outputs": [
    {
     "name": "stdout",
     "output_type": "stream",
     "text": [
      "These are the items in the store, as well as their price:\n",
      "   Water(6-pack) $10\n",
      "   Tv $1,000\n",
      "   Fertilizer $20\n",
      "   Water boiler $85\n",
      "   Honey $3\n",
      "   Fan $14\n",
      "   Toaster $50\n",
      "   Pan $100\n",
      "   Kitchen grinder $75\n",
      "   Phone $999\n",
      "   Speakers $300\n",
      "   Laptop $5,000\n",
      "   Pc $1,200\n",
      "\n",
      " Not enough money in wallet, choose something else...\n",
      "\n",
      " Bought Items: ['kitchen grinder', 'water boiler', 'pan'] \n",
      "\n",
      "Total cost: $260\n",
      "\n",
      "Remaining money in wallet: $40\n",
      "\n"
     ]
    }
   ],
   "source": [
    "\n",
    "# ********************************************************\n",
    "\n",
    "# FOR A BETTER USER EXPERIENCE RUN THIS CODE IN A SEPERATE PYTHON FILE, NOT THROUGH THE JUPYTER NOTEBOOK FILE\n",
    "\n",
    "# ********************************************************\n",
    "\n",
    "# Challenge 2:\n",
    "\n",
    "# (1) Create a program that prints a list of the items you can afford in the store with the money you have in your wallet.\n",
    "# (2) Sort the list in alphabetical order.\n",
    "# (3) Return “Nothing” if you can’t afford anything from the store.\n",
    "# . Hint : make sure to convert the amount from dollars to numbers. Create a program that deletes the $ sign, and the comma (for thousands)\n",
    "\n",
    "# The key is the product, the value is the price\n",
    "\n",
    "# *******************************************************\n",
    "\n",
    "store_items = {\"water(6-pack)\": \"$10\",\n",
    "               \"tv\": \"$1,000\",\n",
    "               \"fertilizer\": \"$20\",\n",
    "               \"water boiler\": \"$85\",\n",
    "               \"honey\": \"$3\",\n",
    "               \"fan\": \"$14\",\n",
    "               \"toaster\": \"$50\",\n",
    "               \"pan\": \"$100\",\n",
    "               \"kitchen grinder\": \"$75\",\n",
    "               \"phone\": \"$999\",\n",
    "               \"speakers\": \"$300\",\n",
    "               \"laptop\": \"$5,000\",\n",
    "               \"pc\": \"$1,200\"\n",
    "               }\n",
    "\n",
    "bought_items = []\n",
    "wallet = 300\n",
    "total_price = 0\n",
    "\n",
    "print('These are the items in the store, as well as their price:')\n",
    "for key, value in store_items.items():\n",
    "    print('  ', key.capitalize(), value)\n",
    "\n",
    "while True:\n",
    "    user_input = input(f'\\n You have ${\n",
    "                       wallet} in your wallet. What would you like to buy? Enter quit when you want to check out: ')\n",
    "\n",
    "    if user_input == 'quit':\n",
    "        break\n",
    "    else:\n",
    "        bought_items.append(user_input)\n",
    "\n",
    "    store_items[user_input] = int(\n",
    "        store_items[user_input].replace(\"$\", \"\").replace(\",\", \"\"))\n",
    "    if store_items[user_input] > wallet:\n",
    "        print(\"\\n Not enough money in wallet, choose something else...\")\n",
    "        bought_items.remove(user_input)\n",
    "    else:\n",
    "        wallet -= store_items[user_input]\n",
    "        total_price += store_items[user_input]\n",
    "\n",
    "print('\\n Bought Items:', bought_items, \"\\n\")\n",
    "print(f\"Total cost: ${total_price}\\n\")\n",
    "print(f'Remaining money in wallet: ${wallet}\\n')"
   ]
  },
  {
   "cell_type": "markdown",
   "metadata": {},
   "source": []
  }
 ],
 "metadata": {
  "kernelspec": {
   "display_name": "Python 3",
   "language": "python",
   "name": "python3"
  },
  "language_info": {
   "codemirror_mode": {
    "name": "ipython",
    "version": 3
   },
   "file_extension": ".py",
   "mimetype": "text/x-python",
   "name": "python",
   "nbconvert_exporter": "python",
   "pygments_lexer": "ipython3",
   "version": "3.12.3"
  }
 },
 "nbformat": 4,
 "nbformat_minor": 2
}

{
 "cells": [
  {
   "cell_type": "code",
   "execution_count": null,
   "metadata": {},
   "outputs": [],
   "source": [
    "# Exercise 1:\n",
    "\n",
    "# Print the following output in one line of code:\n",
    "# Hello world\n",
    "# Hello world\n",
    "# Hello world\n",
    "# Hello world\n",
    "\n",
    "print('Hello world\\nhello world\\nHello world\\nHello world')"
   ]
  },
  {
   "cell_type": "code",
   "execution_count": null,
   "metadata": {},
   "outputs": [],
   "source": [
    "# Exercise 2:\n",
    "\n",
    "# Write code that calculates the result of: (99^3)*8 (meaning 99 to the power of 3, times 8)\n",
    "\n",
    "print((99**3)*8)"
   ]
  },
  {
   "cell_type": "code",
   "execution_count": null,
   "metadata": {},
   "outputs": [],
   "source": [
    "# Exercise 3:\n",
    "\n",
    "# Predict the output of the following code snippets:\n",
    "\n",
    "5 < 3 : False\n",
    "3 == 3 :True\n",
    "3 == \"3\" : False\n",
    "\"3\" > 3 : False\n",
    "\"Hello\" == \"hello\" : False"
   ]
  },
  {
   "cell_type": "code",
   "execution_count": null,
   "metadata": {},
   "outputs": [],
   "source": [
    "# Exercise 4:\n",
    "\n",
    "# (1) Create a variable called computer_brand which value is the brand name of your computer.\n",
    "# (2) Using the computer_brand variable print a sentence that states the following: \"I have a <computer_brand> computer\".\n",
    "\n",
    "computer_brand = 'Mac'\n",
    "print(f'I have a {computer_brand} computer')"
   ]
  },
  {
   "cell_type": "code",
   "execution_count": 10,
   "metadata": {},
   "outputs": [
    {
     "name": "stdout",
     "output_type": "stream",
     "text": [
      "My name is Jean-Philippe, i am 47 years old and my shoe size is 41.\n"
     ]
    }
   ],
   "source": [
    "# Exercise 5:\n",
    "\n",
    "# (1) Create a variable called name, and set it’s value to your name.\n",
    "# (2) Create a variable called age, and set it’s value to your age.\n",
    "# (3) Create a variable called shoe_size, and set it’s value to your shoe size.\n",
    "# (4) Create a variable called info and set it’s value to an interesting sentence about yourself. The sentence must contain all the variables created in parts 1, 2 and 3.\n",
    "# (5) Have your code print the info message.\n",
    "# (6) Run your code\n",
    "\n",
    "name = 'Jean-Philippe'\n",
    "age = 47\n",
    "shoe_size = 41\n",
    "info = f'My name is {name}, i am {age} years old and my shoe size is {shoe_size}.'\n",
    "\n",
    "print(info)"
   ]
  },
  {
   "cell_type": "code",
   "execution_count": null,
   "metadata": {},
   "outputs": [],
   "source": [
    "# Exercise 6:\n",
    "\n",
    "# (1) Create two variables, a and b.\n",
    "# (2) Each variable value should be a number.\n",
    "# (3) If a is bigger then b, have your code print Hello World.\n",
    "\n",
    "a = 6\n",
    "b = 4\n",
    "\n",
    "if a > b:\n",
    "    print('Hello World')"
   ]
  },
  {
   "cell_type": "code",
   "execution_count": null,
   "metadata": {},
   "outputs": [],
   "source": [
    "# Exercise 7:\n",
    "\n",
    "# Write code that asks the user for a number and determines whether this number is odd or even.\n",
    "\n",
    "num = input('Enter a number please: ')\n",
    "num = int(num)\n",
    "\n",
    "if num % 2 == 0:\n",
    "    print(f'{num} is even.')\n",
    "else:\n",
    "    print(f'{num} is odd.')"
   ]
  },
  {
   "cell_type": "code",
   "execution_count": null,
   "metadata": {},
   "outputs": [],
   "source": [
    "# Exercise 8:\n",
    "\n",
    "# Write code that asks the user for their name and determines whether or not you have the same name, print out a funny message based on the outcome.\n",
    "\n",
    "my_name = 'karl'\n",
    "user_name = input('Enter your first name please: ')\n",
    "\n",
    "if user_name == my_name:\n",
    "    print(f'OMG!! Unbelievable, we share the same name {user_name}!!')\n",
    "else:\n",
    "    print(f'{user_name}, we do not share the same name.')"
   ]
  },
  {
   "cell_type": "code",
   "execution_count": null,
   "metadata": {},
   "outputs": [],
   "source": [
    "# Exercise 9:\n",
    "\n",
    "# (1) Write code that will ask the user for their height in centimeters.\n",
    "# (2) If they are over 145cm print a message that states they are tall enough to ride.\n",
    "# (3) If they are not tall enough print a message that says they need to grow some more to ride.\n",
    "\n",
    "height = input('Enter your height in centimetres please: ')\n",
    "height = int(height)\n",
    "limit = 145\n",
    "\n",
    "if height > limit:\n",
    "    print('Yes, you are tall enough to ride.')\n",
    "else:\n",
    "    print('Nope, you need to grow some more to ride.')"
   ]
  }
 ],
 "metadata": {
  "kernelspec": {
   "display_name": "Python 3",
   "language": "python",
   "name": "python3"
  },
  "language_info": {
   "codemirror_mode": {
    "name": "ipython",
    "version": 3
   },
   "file_extension": ".py",
   "mimetype": "text/x-python",
   "name": "python",
   "nbconvert_exporter": "python",
   "pygments_lexer": "ipython3",
   "version": "3.12.3"
  }
 },
 "nbformat": 4,
 "nbformat_minor": 2
}

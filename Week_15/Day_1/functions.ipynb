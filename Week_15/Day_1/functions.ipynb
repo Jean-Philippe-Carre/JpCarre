{
 "cells": [
  {
   "cell_type": "code",
   "execution_count": 14,
   "metadata": {},
   "outputs": [
    {
     "name": "stdout",
     "output_type": "stream",
     "text": [
      "Welcome karl\n",
      "You are 19 years old!\n"
     ]
    }
   ],
   "source": [
    "function welcome(name, age) {\n",
    "    console.log('Welcome ' + name);\n",
    "    console.log(\"You are \" + age + \" years old!\");\n",
    "}\n",
    "welcome('karl', 19);"
   ]
  },
  {
   "cell_type": "code",
   "execution_count": 18,
   "metadata": {},
   "outputs": [
    {
     "name": "stdout",
     "output_type": "stream",
     "text": [
      "Total amount to be repaid: Rs 1350000\n"
     ]
    }
   ],
   "source": [
    "let interestRate = 0.07;\n",
    "\n",
    "function calculateTotalAmountRepaid(loanAmount, numberOfYears) {\n",
    "    let total = loanAmount + (numberOfYears * interestRate * loanAmount);\n",
    "    return total;   \n",
    "}\n",
    "\n",
    "let result = calculateTotalAmountRepaid(1000000, 5);\n",
    "console.log('Total amount to be repaid: Rs ' + result);\n"
   ]
  },
  {
   "cell_type": "code",
   "execution_count": null,
   "metadata": {},
   "outputs": [],
   "source": []
  }
 ],
 "metadata": {
  "kernelspec": {
   "display_name": "Deno",
   "language": "typescript",
   "name": "deno"
  },
  "language_info": {
   "codemirror_mode": "typescript",
   "file_extension": ".ts",
   "mimetype": "text/x.typescript",
   "name": "typescript",
   "nbconvert_exporter": "script",
   "pygments_lexer": "typescript",
   "version": "5.5.2"
  }
 },
 "nbformat": 4,
 "nbformat_minor": 2
}

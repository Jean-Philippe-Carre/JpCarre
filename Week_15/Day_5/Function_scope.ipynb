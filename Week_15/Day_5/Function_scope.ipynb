{
 "cells": [
  {
   "cell_type": "code",
   "execution_count": 11,
   "metadata": {},
   "outputs": [
    {
     "name": "stdout",
     "output_type": "stream",
     "text": [
      "undefined\n"
     ]
    }
   ],
   "source": [
    "// Function scope, whatever is declared in a function will no longer be stored in memory when the program exits the function \n",
    "\n",
    "// const and let are only accessible in the function scope\n",
    "\n",
    "// f-string like in python, for javascript: console.log(`Price: {price})\n",
    "\n",
    "var x = 56;\n",
    "function autoexecute() {\n",
    "    var x = 1;\n",
    "};\n",
    "\n",
    "autoexecute();\n",
    "console.log(autoexecute());\n"
   ]
  },
  {
   "cell_type": "code",
   "execution_count": 19,
   "metadata": {},
   "outputs": [
    {
     "ename": "ReferenceError",
     "evalue": "names is not defined",
     "output_type": "error",
     "traceback": [
      "Stack trace:",
      "ReferenceError: names is not defined",
      "    at <anonymous>:1:28"
     ]
    }
   ],
   "source": [
    "names = ['Tom', 'Karl', 'Jerry'];\n",
    "\n",
    "for (name of names) {\n",
    "    console.log(name);  \n",
    "}"
   ]
  }
 ],
 "metadata": {
  "kernelspec": {
   "display_name": "Deno",
   "language": "typescript",
   "name": "deno"
  },
  "language_info": {
   "codemirror_mode": "typescript",
   "file_extension": ".ts",
   "mimetype": "text/x.typescript",
   "name": "typescript",
   "nbconvert_exporter": "script",
   "pygments_lexer": "typescript",
   "version": "5.5.2"
  }
 },
 "nbformat": 4,
 "nbformat_minor": 2
}

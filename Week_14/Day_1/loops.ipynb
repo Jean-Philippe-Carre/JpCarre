{
 "cells": [
  {
   "cell_type": "code",
   "execution_count": 5,
   "metadata": {},
   "outputs": [
    {
     "name": "stdout",
     "output_type": "stream",
     "text": [
      "Hello World!\n",
      "Hello World!\n",
      "Hello World!\n",
      "Hello World!\n",
      "Hello World!\n",
      "Hello World!\n",
      "Hello World!\n",
      "Hello World!\n",
      "Hello World!\n",
      "Hello World!\n"
     ]
    }
   ],
   "source": [
    "// for loops\n",
    "\n",
    "for (let i = 0; i < 10; i++) {\n",
    "    console.log('Hello World!');\n",
    "}"
   ]
  },
  {
   "cell_type": "code",
   "execution_count": 8,
   "metadata": {},
   "outputs": [
    {
     "name": "stdout",
     "output_type": "stream",
     "text": [
      "Hi there!!\n",
      "Hi there!!\n",
      "Hi there!!\n",
      "Hi there!!\n",
      "Hi there!!\n",
      "Hi there!!\n",
      "Hi there!!\n",
      "Hi there!!\n",
      "Hi there!!\n",
      "Hi there!!\n"
     ]
    }
   ],
   "source": [
    "function greet() {\n",
    "    console.log(\"Hi there!!\");\n",
    "}\n",
    "\n",
    "for (let i = 10; i>0; i--) {\n",
    "    greet();\n",
    "}"
   ]
  },
  {
   "cell_type": "code",
   "execution_count": 11,
   "metadata": {},
   "outputs": [
    {
     "name": "stdout",
     "output_type": "stream",
     "text": [
      "10\n",
      "9\n",
      "8\n",
      "7\n",
      "6\n",
      "5\n",
      "4\n",
      "3\n",
      "2\n",
      "1\n"
     ]
    }
   ],
   "source": [
    "for (let i = 10; i>0; i--) {\n",
    "    console.log(i);}"
   ]
  },
  {
   "cell_type": "code",
   "execution_count": 24,
   "metadata": {},
   "outputs": [
    {
     "name": "stdout",
     "output_type": "stream",
     "text": [
      "545\n"
     ]
    }
   ],
   "source": [
    "\n",
    "let x = prompt(\"enter a number: \");\n",
    "console.log(x);"
   ]
  },
  {
   "cell_type": "code",
   "execution_count": 21,
   "metadata": {},
   "outputs": [
    {
     "ename": "ReferenceError",
     "evalue": "student is not defined",
     "output_type": "error",
     "traceback": [
      "Stack trace:",
      "ReferenceError: student is not defined",
      "    at <anonymous>:6:5"
     ]
    }
   ],
   "source": [
    "let marks = {\n",
    "    \"Pierre\": 67,\n",
    "    \"Karl\": 45,\n",
    "    \"Cheryl\": 78,\n",
    "}\n",
    "\n",
    "for (student in marks) {\n",
    "    console.log(student);\n",
    "    console.log(marks[student]);\n",
    "}"
   ]
  }
 ],
 "metadata": {
  "kernelspec": {
   "display_name": "Deno",
   "language": "typescript",
   "name": "deno"
  },
  "language_info": {
   "codemirror_mode": "typescript",
   "file_extension": ".ts",
   "mimetype": "text/x.typescript",
   "name": "typescript",
   "nbconvert_exporter": "script",
   "pygments_lexer": "typescript",
   "version": "5.5.2"
  }
 },
 "nbformat": 4,
 "nbformat_minor": 2
}

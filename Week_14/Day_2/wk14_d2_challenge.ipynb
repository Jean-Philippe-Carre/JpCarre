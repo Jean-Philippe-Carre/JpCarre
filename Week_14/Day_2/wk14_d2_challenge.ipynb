{
 "cells": [
  {
   "cell_type": "code",
   "execution_count": 5,
   "metadata": {},
   "outputs": [
    {
     "name": "stdout",
     "output_type": "stream",
     "text": [
      "[ \"Apples\", \"Oranges\", \"Blueberries\" ]\n",
      "[ \"Apples\", \"Blueberries\", \"Oranges\" ]\n",
      "[ \"Apples\", \"Blueberries\", \"Oranges\", \"Kiwi\" ]\n",
      "[ \"Blueberries\", \"Oranges\", \"Kiwi\" ]\n",
      "[ \"Kiwi\", \"Oranges\", \"Blueberries\" ]\n"
     ]
    }
   ],
   "source": [
    "// # Exercise 1:\n",
    "/*\n",
    "(1) Remove Banana from the array.\n",
    "(2) Sort the array in alphabetical order.\n",
    "(3) Add “Kiwi” to the end of the array.\n",
    "(4) Remove “Apples” from the array. Don’t use the same method as in part 1.\n",
    "(5) Sort the array in reverse order. (Not alphabetical, but reverse the current Array i.e. [‘a’, ‘c’, ‘b’] becomes [‘b’, ‘c’, ‘a’])\n",
    "At the end you should see this outcome: [\"Kiwi\", \"Oranges\", \"Blueberries\"] */\n",
    "\n",
    "const fruits = [\"Banana\", \"Apples\", \"Oranges\", \"Blueberries\"];\n",
    "\n",
    "fruits.shift();\n",
    "console.log(fruits);\n",
    "\n",
    "fruits.sort();\n",
    "console.log(fruits);\n",
    "\n",
    "fruits.push(\"Kiwi\");\n",
    "console.log(fruits);    \n",
    "\n",
    "fruits.splice(0,1)\n",
    "console.log(fruits);    \n",
    "\n",
    "fruits.reverse();\n",
    "console.log(fruits);\n"
   ]
  },
  {
   "cell_type": "code",
   "execution_count": 13,
   "metadata": {},
   "outputs": [
    {
     "name": "stdout",
     "output_type": "stream",
     "text": [
      "[ \"Oranges\" ]\n"
     ]
    }
   ],
   "source": [
    "// Exercise 2: Access and then console.log “Oranges”.\n",
    "\n",
    "const moreFruits = [\"Banana\", [\"Apples\", [\"Oranges\"], \"Blueberries\"]];\n",
    "\n",
    "let target = moreFruits[1][1];\n",
    "console.log(target);    "
   ]
  }
 ],
 "metadata": {
  "kernelspec": {
   "display_name": "Deno",
   "language": "typescript",
   "name": "deno"
  },
  "language_info": {
   "codemirror_mode": "typescript",
   "file_extension": ".ts",
   "mimetype": "text/x.typescript",
   "name": "typescript",
   "nbconvert_exporter": "script",
   "pygments_lexer": "typescript",
   "version": "5.5.2"
  }
 },
 "nbformat": 4,
 "nbformat_minor": 2
}

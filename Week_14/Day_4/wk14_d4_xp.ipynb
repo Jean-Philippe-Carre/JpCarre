{
 "cells": [
  {
   "cell_type": "code",
   "execution_count": 1,
   "metadata": {},
   "outputs": [
    {
     "name": "stdout",
     "output_type": "stream",
     "text": [
      "First Input:  56\n",
      "Second Input:  45\n",
      "56 is the bigger number.\n"
     ]
    }
   ],
   "source": [
    "/* Exercise 1: Simple If/Else Statement\n",
    "\n",
    "Instructions:\n",
    "\n",
    "Create 2 variables, x and y. Each of them should have a different numeric value.\n",
    "Write an if/else statement that checks which number is bigger.\n",
    "Example :\n",
    "\n",
    "let x = 5;\n",
    "let y = 2;\n",
    "\n",
    "You should display:\n",
    "x is the biggest number */\n",
    "\n",
    "let userInput1 = prompt('Enter first numerical value: ');\n",
    "let userInput2 = prompt(\"Enter second numerical value: \");\n",
    "\n",
    "console.log('First Input: ' , userInput1);\n",
    "console.log('Second Input: ' , userInput2);\n",
    "\n",
    "if (userInput1 > userInput2) {\n",
    "    console.log(userInput1, \"is the bigger number.\");\n",
    "}\n",
    "else if (userInput1 == userInput2) {\n",
    "    console.log(\"The two numbers are the same!!\");\n",
    "}\n",
    "\n",
    "else {\n",
    "    console.log(userInput2, \"is the bigger number.\");\n",
    "}"
   ]
  },
  {
   "cell_type": "code",
   "execution_count": 2,
   "metadata": {},
   "outputs": [
    {
     "name": "stdout",
     "output_type": "stream",
     "text": [
      "The number of letters in rottweiler is 10.\n",
      "Convering rottweiler to uppercase: ROTTWEILER\n",
      "Converting rottweiler to lowercase: rottweiler\n",
      "I don't care, i prefer cats!!\n"
     ]
    }
   ],
   "source": [
    "/* Exercise 2: Chihuahua\n",
    "\n",
    "Instructions\n",
    "\n",
    "(1) Create a variable called newDog where it’s value is “Chihuahua”.\n",
    "(2) Check and display how many letters are in newDog.\n",
    "(3) Display the newDog variable in uppercase and then in lowercase (no need to create new variables, just console.log twice).\n",
    "(4) Check if the variable newDog is equal to “Chihuahua”\n",
    "    . if it does, display ‘I love Chihuahuas, it’s my favorite dog breed’\n",
    "    . else, console.log ‘I dont care, I prefer cats’ */\n",
    "\n",
    "let newDog = 'rottweiler';\n",
    "console.log('The number of letters in ' + newDog + ' is ' + newDog.length + \".\");\n",
    "\n",
    "console.log('Convering ' + newDog + ' to uppercase: ' + newDog.toUpperCase());\n",
    "console.log('Converting ' + newDog + ' to lowercase: ' + newDog.toLowerCase());\n",
    "\n",
    "if (newDog == \"Chihuahua\") {\n",
    "    console.log(\"I love Chihuahuas, it's my favorite dog breed.\");\n",
    "}\n",
    "else {console.log('I don\\'t care, i prefer cats!!')}\n"
   ]
  },
  {
   "cell_type": "code",
   "execution_count": 4,
   "metadata": {},
   "outputs": [
    {
     "name": "stdout",
     "output_type": "stream",
     "text": [
      "You entered: 67\n",
      "67 is an odd number!\n"
     ]
    }
   ],
   "source": [
    "/* Exercise 3: Even Or Odd\n",
    "\n",
    "Instructions\n",
    "\n",
    "(1) Prompt the user for a number and save it to a variable.\n",
    "(2) Check whether the variable is even or odd.\n",
    "    . If it is even, display: “x is an even number”. Where x is the actual number the user chose.\n",
    "    . If it is odd, display: “x is an odd number”. Where x is the actual number the user chose. */\n",
    "\n",
    "let userInput = prompt(\"Enter any number: \");\n",
    "console.log('You entered: ' + userInput );\n",
    "\n",
    "if (userInput % 2 == 0) {\n",
    "    console.log(userInput + \" is an even number!\");\n",
    "}\n",
    "else {\n",
    "    console.log(userInput + \" is an odd number!\");\n",
    "}"
   ]
  },
  {
   "cell_type": "code",
   "execution_count": 21,
   "metadata": {},
   "outputs": [
    {
     "name": "stdout",
     "output_type": "stream",
     "text": [
      "Lea123 and Princess45 and 2 other(s) are online.\n"
     ]
    }
   ],
   "source": [
    "/* Exercise 4: Group Chat\n",
    "\n",
    "Instructions\n",
    "\n",
    "Below is an array of users that are online in a group chat.\n",
    "\n",
    "const users = [\"Lea123\", \"Princess45\", \"cat&doglovers\", \"helooo@000\"];\n",
    "(1) Using the array above, console.log the number of users that are connected to the group chat based on the following rules:\n",
    "    . If there is no users (the users array is empty), console.log “no one is online”.\n",
    "    . If there is 1 user, console.log “<name_user> is online”.\n",
    "    . If there are 2 users, console.log “<name_user1> and <name_user2> are online”.\n",
    "    . If there are more than 2 users, console.log the first two names in the users array and the number of additional users online.\n",
    "For example, if there are 5 users, it should display:\n",
    "name_user1, name_user2 and 3 more are online */\n",
    "\n",
    "const users = [\"Lea123\", \"Princess45\", \"cat&doglovers\", \"helooo@000\"];\n",
    "let remainingCount = users.length - 2;\n",
    "\n",
    "if (users.length < 1) {\n",
    "    console.log(\"No one is online.\");\n",
    "}\n",
    "else if (users.length == 1) {\n",
    "    console.log(users[0] + ' is online.');\n",
    "}    \n",
    "else if (users.length == 2) {\n",
    "    console.log(users[0] + ' and ' + users[1] + ' are online.');\n",
    "}\n",
    "else if (users.length > 2) {\n",
    "    console.log(users[0] + ' and ' + users[1] + ' and ' + remainingCount + ' other(s) are online.');\n",
    "}\n"
   ]
  }
 ],
 "metadata": {
  "kernelspec": {
   "display_name": "Deno",
   "language": "typescript",
   "name": "deno"
  },
  "language_info": {
   "codemirror_mode": "typescript",
   "file_extension": ".ts",
   "mimetype": "text/x.typescript",
   "name": "typescript",
   "nbconvert_exporter": "script",
   "pygments_lexer": "typescript",
   "version": "5.5.2"
  }
 },
 "nbformat": 4,
 "nbformat_minor": 2
}

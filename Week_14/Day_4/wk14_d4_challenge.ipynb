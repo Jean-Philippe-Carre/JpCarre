{
 "cells": [
  {
   "cell_type": "code",
   "execution_count": 5,
   "metadata": {},
   "outputs": [
    {
     "name": "stdout",
     "output_type": "stream",
     "text": [
      "[ \"Javascript\", \"is\", \"not\", \"that\", \"bad\", \"i\", \"like\", \"it\" ]\n",
      "2\n",
      "4\n",
      "[ \"not\", \"that\", \"bad\" ]\n",
      "Javascript is good i like it\n"
     ]
    }
   ],
   "source": [
    "/* (1) Create a variable called sentence. The value of the variable should be a string that contains the words “not” and “bad”.\n",
    "For example, “The movie is not that bad, I like it”.\n",
    "\n",
    "(2) Create a variable called wordNot where it’s value is the first appearance (ie. the position) of the substring “not” (from the sentence variable).\n",
    "\n",
    "(3) Create a variable called wordBad where it’s value is the first appearance (ie. the position) of the substring “bad” (from the sentence variable).\n",
    "\n",
    "(4) If the word “bad” comes after the word “not”, you should replace the whole “not…bad” substring with “good”, then console.log the result.\n",
    "For example, the result here should be : “The movie is good, I like it”\n",
    "\n",
    "(5) If the word “bad” does not come after “not” or the words are not in the sentence, console.log the original sentence.\n",
    "Example:\n",
    "\n",
    "  Your string is : 'This dinner is not that bad ! You cook well', \n",
    "  --> the result is : 'This dinner is good ! You cook well'\n",
    "\n",
    "  Your string is : 'This movie is not so bad !' \n",
    "  --> the result is : 'This movie is good !'\n",
    "\n",
    "  Your string is : 'This dinner is bad !' \n",
    "  --> the result is : 'This dinner is bad !' */\n",
    "\n",
    "let sentence = \"Javascript is not that bad, i like it!\";\n",
    "let array = sentence.replace(/[^a-zA-Z\\s]/g, \"\").split(\" \");\n",
    "let wordNot = array.indexOf(\"not\");\n",
    "let wordBad = array.indexOf(\"bad\");\n",
    "let removedWords = array.slice(2,5)\n",
    "\n",
    "console.log(array);\n",
    "console.log(wordNot);\n",
    "console.log(wordBad);\n",
    "console.log(removedWords);\n",
    "\n",
    "if (wordBad > wordNot) {\n",
    "    array.splice(wordNot, removedWords.length, 'good');\n",
    "    let newArray = array.join(\" \");\n",
    "    console.log(newArray);\n",
    "}\n",
    "else if (!sentence.includes(\"not\") && !sentence.includes(\"bad\")) {\n",
    "    console.log(sentence);\n",
    "}\n",
    "\n"
   ]
  }
 ],
 "metadata": {
  "kernelspec": {
   "display_name": "Deno",
   "language": "typescript",
   "name": "deno"
  },
  "language_info": {
   "codemirror_mode": "typescript",
   "file_extension": ".ts",
   "mimetype": "text/x.typescript",
   "name": "typescript",
   "nbconvert_exporter": "script",
   "pygments_lexer": "typescript",
   "version": "5.5.2"
  }
 },
 "nbformat": 4,
 "nbformat_minor": 2
}

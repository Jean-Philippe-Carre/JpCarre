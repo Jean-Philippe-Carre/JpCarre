{
 "cells": [
  {
   "cell_type": "code",
   "execution_count": null,
   "metadata": {},
   "outputs": [],
   "source": [
    "// Exercise 1 : List Of People\n",
    "\n",
    "// const people = [\"Greg\", \"Mary\", \"Devon\", \"James\"];"
   ]
  },
  {
   "cell_type": "code",
   "execution_count": 3,
   "metadata": {},
   "outputs": [
    {
     "name": "stdout",
     "output_type": "stream",
     "text": [
      "[ \"Mary\", \"Devon\", \"James\" ]\n"
     ]
    }
   ],
   "source": [
    "// Part I - Review About Arrays\n",
    "\n",
    "// (1) Write code to remove “Greg” from the people array.\n",
    "\n",
    "const people = [\"Greg\", \"Mary\", \"Devon\", \"James\"];\n",
    "people.shift();\n",
    "console.log(people);\n"
   ]
  },
  {
   "cell_type": "code",
   "execution_count": 5,
   "metadata": {},
   "outputs": [
    {
     "name": "stdout",
     "output_type": "stream",
     "text": [
      "[ \"Mary\", \"Devon\", \"Jason\" ]\n"
     ]
    }
   ],
   "source": [
    "// (2) Write code to replace “James” to “Jason”.\n",
    "\n",
    "people.splice(2,1,'Jason');\n",
    "console.log(people);\n"
   ]
  },
  {
   "cell_type": "code",
   "execution_count": 30,
   "metadata": {},
   "outputs": [
    {
     "name": "stdout",
     "output_type": "stream",
     "text": [
      "[ \"Mary\", \"Devon\", \"Jason\", \"Karl\" ]\n"
     ]
    }
   ],
   "source": [
    "// (3) Write code to add your name to the end of the people array.\n",
    "\n",
    "people.push(\"Karl\");\n",
    "console.log(people);"
   ]
  },
  {
   "cell_type": "code",
   "execution_count": 44,
   "metadata": {},
   "outputs": [
    {
     "name": "stdout",
     "output_type": "stream",
     "text": [
      "Mary's index is: 0\n"
     ]
    }
   ],
   "source": [
    "// (4) Write code that console.logs Mary’s index. take a look at the indexOf method on Google.\n",
    "\n",
    "let indexOfMary = people.indexOf(\"Mary\");\n",
    "console.log(`Mary\\'s index is: ${indexOfMary}`);"
   ]
  },
  {
   "cell_type": "code",
   "execution_count": 49,
   "metadata": {},
   "outputs": [
    {
     "name": "stdout",
     "output_type": "stream",
     "text": [
      "[ \"Mary\", \"Devon\", \"Jason\", \"Karl\" ]\n",
      "----------\n",
      "[ \"Devon\", \"Jason\", \"Karl\" ]\n"
     ]
    }
   ],
   "source": [
    "// (5) Write code to make a copy of the people array using the slice method.\n",
    "//  . The copy should NOT include “Mary” or your name.\n",
    "//  . Hint: remember that now the people array should look like this const people = [\"Mary\", \"Devon\", \"Jason\", \"Yourname\"];\n",
    "//  . Hint: Check out the documentation for the slice method\n",
    "\n",
    "console.log(people);\n",
    "\n",
    "console.log('----------');\n",
    "\n",
    "let newArray = people.slice(1);\n",
    "console.log(newArray);"
   ]
  },
  {
   "cell_type": "code",
   "execution_count": 52,
   "metadata": {},
   "outputs": [
    {
     "name": "stdout",
     "output_type": "stream",
     "text": [
      "-1\n"
     ]
    }
   ],
   "source": [
    "// (6) Write code that gives the index of “Foo”. Why does it return -1 ?\n",
    "\n",
    "let indexOfFoo = people.indexOf(\"Foo\");\n",
    "console.log(indexOfFoo);\n",
    "\n",
    "// It returns -1 because `Foo` is not in the array. "
   ]
  },
  {
   "cell_type": "code",
   "execution_count": 68,
   "metadata": {},
   "outputs": [
    {
     "name": "stdout",
     "output_type": "stream",
     "text": [
      "[ \"Devon\", \"Jason\", \"Karl\" ]\n",
      "Karl\n"
     ]
    }
   ],
   "source": [
    "// (7) Create a variable called last which value is the last element of the array.\n",
    "// Hint: What is the relationship between the index of the last element in the array and the length of the array?\n",
    "\n",
    "console.log(newArray);\n",
    "\n",
    "let lastIndex = newArray.length;\n",
    "let last = newArray[lastIndex - 1];\n",
    "\n",
    "console.log(last);\n"
   ]
  },
  {
   "cell_type": "code",
   "execution_count": 70,
   "metadata": {},
   "outputs": [
    {
     "name": "stdout",
     "output_type": "stream",
     "text": [
      "Greg\n",
      "Mary\n",
      "Devon\n",
      "James\n"
     ]
    }
   ],
   "source": [
    "// Part II - Loops\n",
    "\n",
    "// (1) Using a loop, iterate through the people array and console.log each person.\n",
    "\n",
    "const people = [\"Greg\", \"Mary\", \"Devon\", \"James\"];\n",
    " \n",
    "for (let i = 0; i < people.length; i++){\n",
    "    console.log(people[i]); \n",
    "}\n"
   ]
  },
  {
   "cell_type": "code",
   "execution_count": 75,
   "metadata": {},
   "outputs": [
    {
     "name": "stdout",
     "output_type": "stream",
     "text": [
      "Greg\n",
      "Mary\n",
      "Devon\n"
     ]
    }
   ],
   "source": [
    "// (2) Using a loop, iterate through the people array and exit the loop after you console.log “Devon” .\n",
    "//  . Hint: take a look at the break statement in the lesson.\n",
    "\n",
    "for (let i = 0; i < people.length; i++) {\n",
    "  if (people[i] == 'James') {\n",
    "    break;\n",
    "  }\n",
    "  console.log(people[i]);\n",
    "}"
   ]
  },
  {
   "cell_type": "code",
   "execution_count": null,
   "metadata": {},
   "outputs": [],
   "source": [
    "// Exercise 2 : Your Favorite Colors\n",
    "\n",
    "// (1) Create an array called colors where the value is a list of your five favorite colors.\n",
    "\n",
    "\n"
   ]
  }
 ],
 "metadata": {
  "kernelspec": {
   "display_name": "Deno",
   "language": "typescript",
   "name": "deno"
  },
  "language_info": {
   "codemirror_mode": "typescript",
   "file_extension": ".ts",
   "mimetype": "text/x.typescript",
   "name": "typescript",
   "nbconvert_exporter": "script",
   "pygments_lexer": "typescript",
   "version": "5.5.2"
  }
 },
 "nbformat": 4,
 "nbformat_minor": 2
}

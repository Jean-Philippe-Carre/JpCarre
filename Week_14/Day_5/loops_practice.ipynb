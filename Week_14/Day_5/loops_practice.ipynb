{
 "cells": [
  {
   "cell_type": "code",
   "execution_count": 18,
   "metadata": {},
   "outputs": [
    {
     "name": "stdout",
     "output_type": "stream",
     "text": [
      "5\n",
      "4\n",
      "3\n",
      "2\n",
      "1\n",
      "0\n"
     ]
    }
   ],
   "source": [
    "for (let x = 5; x >=0; x--) {\n",
    "    console.log(x);\n",
    "}"
   ]
  },
  {
   "cell_type": "code",
   "execution_count": 16,
   "metadata": {},
   "outputs": [
    {
     "name": "stdout",
     "output_type": "stream",
     "text": [
      "1\n",
      "4\n",
      "7\n",
      "10\n"
     ]
    }
   ],
   "source": [
    "let arr = [1, 4, 7, 10];\n",
    "\n",
    "for (let x = 0; x < arr.length; x++) {\n",
    "    console.log(arr[x]);    \n",
    "}\n"
   ]
  },
  {
   "cell_type": "code",
   "execution_count": 48,
   "metadata": {},
   "outputs": [
    {
     "name": "stdout",
     "output_type": "stream",
     "text": [
      "Apples\n",
      "Oranges\n",
      "Kiwis\n",
      "Bananas\n"
     ]
    }
   ],
   "source": [
    "let fruits = ['Apples', 'Oranges', 'Kiwis', 'Bananas'];\n",
    "\n",
    "for (let i = 0; i < fruits.length; i++) {\n",
    "    console.log(fruits[i]);\n",
    "}"
   ]
  },
  {
   "cell_type": "code",
   "execution_count": 49,
   "metadata": {},
   "outputs": [
    {
     "name": "stdout",
     "output_type": "stream",
     "text": [
      "Apples\n",
      "Oranges\n",
      "Kiwis\n",
      "Bananas\n"
     ]
    }
   ],
   "source": [
    "let fruits = [\"Apples\", \"Oranges\", \"Kiwis\", \"Bananas\"];\n",
    "\n",
    "for (let i in fruits) {\n",
    "  console.log(fruits[i]);\n",
    "}"
   ]
  },
  {
   "cell_type": "code",
   "execution_count": 56,
   "metadata": {},
   "outputs": [
    {
     "name": "stdout",
     "output_type": "stream",
     "text": [
      "Apples\n",
      "Oranges\n",
      "Kiwis\n",
      "Bananas\n"
     ]
    }
   ],
   "source": [
    "let fruits = [\"Apples\", \"Oranges\", \"Kiwis\", \"Bananas\"];\n",
    "\n",
    "for (let i of fruits) {\n",
    "  console.log(i);\n",
    "}\n"
   ]
  },
  {
   "cell_type": "code",
   "execution_count": 29,
   "metadata": {},
   "outputs": [
    {
     "name": "stdout",
     "output_type": "stream",
     "text": [
      "0 is even.\n",
      "1 is odd.\n",
      "2 is even.\n",
      "3 is odd.\n",
      "4 is even.\n",
      "5 is odd.\n",
      "6 is even.\n",
      "7 is odd.\n",
      "8 is even.\n",
      "9 is odd.\n",
      "10 is even.\n"
     ]
    }
   ],
   "source": [
    "for (let i = 0; i <= 10; i++) {\n",
    "    if (i % 2 === 0) {\n",
    "        console.log(i + ' is even.');}\n",
    "    else {\n",
    "        console.log(i + ' is odd.');\n",
    "    }\n",
    "}"
   ]
  },
  {
   "cell_type": "code",
   "execution_count": 1,
   "metadata": {},
   "outputs": [
    {
     "name": "stdout",
     "output_type": "stream",
     "text": [
      "{ FirstName: \"Karl\", LastName: \"Carre\", Age: 19 }\n",
      "------------\n",
      "FirstName: Karl\n",
      "LastName: Carre\n",
      "Age: 19\n"
     ]
    }
   ],
   "source": [
    "let person = { FirstName: \"Karl\", LastName: \"Carre\", Age: 19 };\n",
    "\n",
    "console.log(person);\n",
    "\n",
    "console.log('------------');\n",
    "\n",
    "for (let key in person) {\n",
    "    console.log((key) + ': ' + person[key]);\n",
    "}"
   ]
  },
  {
   "cell_type": "code",
   "execution_count": 81,
   "metadata": {},
   "outputs": [
    {
     "name": "stdout",
     "output_type": "stream",
     "text": [
      "1\n",
      "2\n",
      "3\n",
      "--------\n",
      "1\n",
      "2\n",
      "3\n"
     ]
    }
   ],
   "source": [
    "let n = 0;\n",
    "while (n < 3) {\n",
    "  n++;\n",
    "  console.log(n);\n",
    "}\n",
    "for (let i = 1; i < 4; i++) {\n",
    "    console.log(i);\n",
    "}\n"
   ]
  },
  {
   "cell_type": "code",
   "execution_count": 90,
   "metadata": {},
   "outputs": [
    {
     "name": "stdout",
     "output_type": "stream",
     "text": [
      "0\n",
      "1\n",
      "2\n"
     ]
    }
   ],
   "source": [
    "\n",
    "for (let i = 0; i < 10; i++) {\n",
    "    if (i == 3) {\n",
    "        break;\n",
    "    }\n",
    "    console.log(i);\n",
    "}"
   ]
  },
  {
   "cell_type": "code",
   "execution_count": 92,
   "metadata": {},
   "outputs": [
    {
     "name": "stdout",
     "output_type": "stream",
     "text": [
      "0\n",
      "1\n",
      "2\n",
      "4\n",
      "5\n",
      "6\n",
      "7\n",
      "8\n",
      "9\n"
     ]
    }
   ],
   "source": [
    "for (let i = 0; i < 10; i++) {\n",
    "    if (i === 3) {\n",
    "        continue;\n",
    "    }\n",
    "    console.log(i);\n",
    "\n",
    "}"
   ]
  },
  {
   "cell_type": "code",
   "execution_count": 109,
   "metadata": {},
   "outputs": [
    {
     "name": "stdout",
     "output_type": "stream",
     "text": [
      "Apples\n",
      "Oranges\n",
      "Bananas\n"
     ]
    }
   ],
   "source": [
    "let fruits = [\"Apples\", \"Oranges\", \"Kiwis\", \"Bananas\"];\n",
    "\n",
    "for (i of fruits) {\n",
    "    if (i == 'Kiwis') {\n",
    "        continue;\n",
    "    }\n",
    "    console.log(i);\n",
    "}\n"
   ]
  },
  {
   "cell_type": "code",
   "execution_count": 28,
   "metadata": {},
   "outputs": [
    {
     "name": "stdout",
     "output_type": "stream",
     "text": [
      "john\n",
      "sarah\n",
      "Rudolf\n"
     ]
    }
   ],
   "source": [
    "let names = [\"john\", \"sarah\", 23, \"Rudolf\", 34];\n",
    " \n",
    "for (let i = 0; i < names.length; i++) {\n",
    "    if (typeof names[i] === \"number\") {\n",
    "        continue;\n",
    "    }\n",
    "    console.log(names[i]);\n",
    "}\n"
   ]
  },
  {
   "cell_type": "code",
   "execution_count": 12,
   "metadata": {},
   "outputs": [
    {
     "name": "stdout",
     "output_type": "stream",
     "text": [
      "Hello Lea\n"
     ]
    }
   ],
   "source": [
    "// let name = 'lea';\n",
    "// let greetings = 'hello ' + name;\n",
    "// console.log(greetings);\n",
    "\n",
    "// let greetings2 = 'hello ${name}';\n",
    "// console.log(greetings2);\n",
    "\n",
    "let name = \"Lea\";\n",
    "let greetings = `Hello ${name}`;\n",
    "console.log(greetings);\n"
   ]
  }
 ],
 "metadata": {
  "kernelspec": {
   "display_name": "Deno",
   "language": "typescript",
   "name": "deno"
  },
  "language_info": {
   "codemirror_mode": "typescript",
   "file_extension": ".ts",
   "mimetype": "text/x.typescript",
   "name": "typescript",
   "nbconvert_exporter": "script",
   "pygments_lexer": "typescript",
   "version": "5.5.2"
  }
 },
 "nbformat": 4,
 "nbformat_minor": 2
}

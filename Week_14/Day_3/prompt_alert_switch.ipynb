{
 "cells": [
  {
   "cell_type": "code",
   "execution_count": 10,
   "metadata": {},
   "outputs": [
    {
     "name": "stdout",
     "output_type": "stream",
     "text": [
      "Sorry, you are too young to drive this car, Powering off.\n"
     ]
    }
   ],
   "source": [
    "let age = prompt(\"Enter your age: \");\n",
    "\n",
    "if (age == 18) {\n",
    "    // alert(\"Congratulations on your first year of driving!\");\n",
    "    console.log(\"Congratulations on your first year of driving!\");\n",
    "}\n",
    "else if (age > 18) {\n",
    "    // alert(\"Powering on, enjoy the ride!\");\n",
    "    console.log(\"Powering on, enjoy the ride!\");\n",
    "}\n",
    "else {\n",
    "    // alert(\"Sorry, you are too young to drive this car, Powering off.\");\n",
    "    console.log(\"Sorry, you are too young to drive this car, Powering off.\");\n",
    "}"
   ]
  },
  {
   "cell_type": "code",
   "execution_count": 15,
   "metadata": {},
   "outputs": [
    {
     "name": "stdout",
     "output_type": "stream",
     "text": [
      "We do not have kiwi...\n"
     ]
    }
   ],
   "source": [
    "let fruits = ('kiwi');\n",
    "\n",
    "switch (fruits) {\n",
    "    case \"orange\": \n",
    "        console.log(\"Oranges are $0.59 a pound.\"); \n",
    "        break;\n",
    "    case \"mango\":\n",
    "        console.log('Mangoes are $2.79 a pound.');\n",
    "        break;\n",
    "    case \"papaya\":\n",
    "        console.log('Papayas are $4.99 a pound.');\n",
    "        break;\n",
    "    default:\n",
    "        console.log(\"We do not have \" + fruits + \"...\");\n",
    "}"
   ]
  },
  {
   "cell_type": "code",
   "execution_count": 19,
   "metadata": {},
   "outputs": [
    {
     "name": "stdout",
     "output_type": "stream",
     "text": [
      "Doe\n",
      "{ firstName: \"Karl\", lastName: \"Doe\", age: 50, eyeColor: \"blue\" }\n"
     ]
    }
   ],
   "source": [
    "let person = {\n",
    "  firstName: \"John\",\n",
    "  lastName: \"Doe\",\n",
    "  age: 50,\n",
    "  eyeColor: \"blue\",\n",
    "};\n",
    "\n",
    "console.log(person.lastName);\n",
    "\n",
    "person.firstName = \"Karl\";\n",
    "console.log(person);\n"
   ]
  }
 ],
 "metadata": {
  "kernelspec": {
   "display_name": "Deno",
   "language": "typescript",
   "name": "deno"
  },
  "language_info": {
   "codemirror_mode": "typescript",
   "file_extension": ".ts",
   "mimetype": "text/x.typescript",
   "name": "typescript",
   "nbconvert_exporter": "script",
   "pygments_lexer": "typescript",
   "version": "5.5.2"
  }
 },
 "nbformat": 4,
 "nbformat_minor": 2
}

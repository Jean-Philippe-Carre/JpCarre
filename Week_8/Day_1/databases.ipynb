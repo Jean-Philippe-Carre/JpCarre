{
 "cells": [
  {
   "cell_type": "code",
   "execution_count": 49,
   "metadata": {},
   "outputs": [
    {
     "name": "stdout",
     "output_type": "stream",
     "text": [
      "Sucessfully connected to the database\n"
     ]
    }
   ],
   "source": [
    "import psycopg2\n",
    "\n",
    "def connection(db_name, db_user, db_password, db_host, db_port):\n",
    "    try:\n",
    "        conn = psycopg2.connect(\n",
    "            dbname=db_name,\n",
    "            user=db_user,\n",
    "            password=db_password,\n",
    "            host=db_host,\n",
    "            port=db_port\n",
    "        )\n",
    "        print('Sucessfully connected to the database')\n",
    "        return conn\n",
    "    except Exception as e:\n",
    "        print(f'error during connection {str(e)}')\n",
    "        return None\n",
    "\n",
    "\n",
    "# create connection\n",
    "params = {\n",
    "    \"db_name\": \"di-143\",\n",
    "    \"db_user\": \"di-143_owner\",\n",
    "    \"db_password\": '1YKcWzwkeOM6',\n",
    "    \"db_host\": 'ep-silent-violet-a2s31e3t.eu-central-1.aws.neon.tech',\n",
    "    \"db_port\": 5432\n",
    "}\n",
    "conn = connection(**params)\n",
    "\n",
    "conn.autocommit = True\n"
   ]
  },
  {
   "cell_type": "code",
   "execution_count": 50,
   "metadata": {},
   "outputs": [],
   "source": [
    "def execute_query(conn, query):\n",
    "    try:\n",
    "        cursor = conn.cursor()\n",
    "        cursor.execute(query)\n",
    "        # print('Query executed successfully')\n",
    "        return cursor\n",
    "    except Exception as e:\n",
    "        print(f\"Error: {str(e)}\")\n",
    "        return None"
   ]
  },
  {
   "cell_type": "code",
   "execution_count": 51,
   "metadata": {},
   "outputs": [
    {
     "name": "stdout",
     "output_type": "stream",
     "text": [
      "(1, 'Eric', 'Rose-hill', 'eric@gmail.com', '12345', True)\n",
      "(2, 'Karl', 'Quatre-Bornes', 'karl@gmail.com', '15345', False)\n",
      "(3, 'Maita', 'Vacoas', 'maita@gmail.com', '87654', False)\n",
      "(4, 'John', 'Port-Louis', 'john@gmail.com', '36542', False)\n",
      "(5, 'Tim', 'Quatre-Vents', 'tim@gmail.com', '87623', False)\n",
      "(6, 'Kimberley', 'Flic-en-flac', 'kimberley@gmail.com', '24421', True)\n",
      "(7, 'Cindy', 'riviere noire', 'cindy@gmail.com', '87564', False)\n",
      "(8, 'Cheryl', 'Tamarin', 'cheryl@gmail.com', '28746', False)\n"
     ]
    }
   ],
   "source": [
    "query = \"SELECT * FROM users\"\n",
    "results = execute_query(conn, query).fetchall()\n",
    "for result in results:\n",
    "    print(result)\n",
    "    # print(result[1])"
   ]
  },
  {
   "cell_type": "code",
   "execution_count": 52,
   "metadata": {},
   "outputs": [
    {
     "name": "stdout",
     "output_type": "stream",
     "text": [
      "('Eric', 'Rose-hill')\n",
      "('Karl', 'Quatre-Bornes')\n",
      "('Maita', 'Vacoas')\n",
      "('John', 'Port-Louis')\n",
      "('Tim', 'Quatre-Vents')\n",
      "('Kimberley', 'Flic-en-flac')\n",
      "('Cindy', 'riviere noire')\n",
      "('Cheryl', 'Tamarin')\n"
     ]
    }
   ],
   "source": [
    "query = \"SELECT name, address  FROM users\"\n",
    "results = execute_query(conn, query).fetchall()\n",
    "for result in results:\n",
    "    print(result)\n",
    "    # print(result[1])"
   ]
  },
  {
   "cell_type": "code",
   "execution_count": 53,
   "metadata": {},
   "outputs": [
    {
     "name": "stdout",
     "output_type": "stream",
     "text": [
      "(8, 'Cheryl', 'Tamarin', 'cheryl@gmail.com', '28746', False)\n",
      "(7, 'Cindy', 'riviere noire', 'cindy@gmail.com', '87564', False)\n",
      "(1, 'Eric', 'Rose-hill', 'eric@gmail.com', '12345', True)\n",
      "(4, 'John', 'Port-Louis', 'john@gmail.com', '36542', False)\n"
     ]
    }
   ],
   "source": [
    "query = \"select * from users order by name asc limit 4\"\n",
    "results = execute_query(conn, query).fetchall()\n",
    "for result in results:\n",
    "    print(result)\n",
    "    # print(result[1])"
   ]
  },
  {
   "cell_type": "code",
   "execution_count": 57,
   "metadata": {},
   "outputs": [],
   "source": [
    "# create table\n",
    "\n",
    "query = \"CREATE TABLE dancers(id integer primary key, name varchar(100) not null, address varchar(200), dance varchar(100), experience integer);\"\n",
    "results = execute_query(conn, query)\n"
   ]
  },
  {
   "cell_type": "code",
   "execution_count": 61,
   "metadata": {},
   "outputs": [
    {
     "name": "stdout",
     "output_type": "stream",
     "text": [
      "True\n"
     ]
    }
   ],
   "source": [
    "# to know if table has been created\n",
    "\n",
    "query = \"select EXISTS(select from pg_tables where schemaname = 'public' and tablename = 'dancers');\"\n",
    "result = execute_query(conn, query).fetchone()[0]\n",
    "\n",
    "print(result)"
   ]
  },
  {
   "cell_type": "code",
   "execution_count": 77,
   "metadata": {},
   "outputs": [],
   "source": [
    "query = \"Insert into dancers Values(1, 'Anais', 'Tombeau bay', 'Bachata', 4)\"\n",
    "result = execute_query(conn, query)"
   ]
  },
  {
   "cell_type": "code",
   "execution_count": 69,
   "metadata": {},
   "outputs": [
    {
     "name": "stdout",
     "output_type": "stream",
     "text": [
      "(1, 'Anais', 'Tombeau bay', 'Bachata', 4)\n",
      "(2, 'Anais', 'Tombeau bay', 'Bachata', 4)\n"
     ]
    }
   ],
   "source": [
    "query = (\"select * from dancers\")\n",
    "result = execute_query(conn, query).fetchall()\n",
    "for result in result:\n",
    "    print(result)"
   ]
  },
  {
   "cell_type": "code",
   "execution_count": 79,
   "metadata": {},
   "outputs": [],
   "source": [
    "query = (\"delete from dancers where id = 2\")\n",
    "result = execute_query(conn, query)\n"
   ]
  },
  {
   "cell_type": "code",
   "execution_count": 80,
   "metadata": {},
   "outputs": [
    {
     "name": "stdout",
     "output_type": "stream",
     "text": [
      "(1, 'Anais', 'Tombeau bay', 'Bachata', 4)\n"
     ]
    }
   ],
   "source": [
    "query = (\"select * from dancers\")\n",
    "result = execute_query(conn, query).fetchall()\n",
    "for result in result:\n",
    "    print(result)"
   ]
  },
  {
   "cell_type": "code",
   "execution_count": 84,
   "metadata": {},
   "outputs": [
    {
     "name": "stdout",
     "output_type": "stream",
     "text": [
      "Error: duplicate key value violates unique constraint \"dancers_pkey\"\n",
      "DETAIL:  Key (id)=(2) already exists.\n",
      "\n"
     ]
    }
   ],
   "source": [
    "query = \"Insert into dancers Values(2, 'Louis', 'Curepipe', 'Salsa', 2),(3, 'Laetitia', 'Vacoas', 'Kizomba', 6)\"\n",
    "result = execute_query(conn, query)"
   ]
  },
  {
   "cell_type": "code",
   "execution_count": 85,
   "metadata": {},
   "outputs": [
    {
     "name": "stdout",
     "output_type": "stream",
     "text": [
      "(1, 'Anais', 'Tombeau bay', 'Bachata', 4)\n",
      "(2, 'Louis', 'Curepipe', 'Salsa', 2)\n",
      "(3, 'Laetitia', 'Vacoas', 'Kizomba', 6)\n"
     ]
    }
   ],
   "source": [
    "query = (\"select * from dancers\")\n",
    "result = execute_query(conn, query).fetchall()\n",
    "for result in result:\n",
    "    print(result)"
   ]
  }
 ],
 "metadata": {
  "kernelspec": {
   "display_name": "Python 3",
   "language": "python",
   "name": "python3"
  },
  "language_info": {
   "codemirror_mode": {
    "name": "ipython",
    "version": 3
   },
   "file_extension": ".py",
   "mimetype": "text/x-python",
   "name": "python",
   "nbconvert_exporter": "python",
   "pygments_lexer": "ipython3",
   "version": "3.12.3"
  }
 },
 "nbformat": 4,
 "nbformat_minor": 2
}

{
 "cells": [
  {
   "cell_type": "code",
   "execution_count": 17,
   "metadata": {},
   "outputs": [
    {
     "name": "stdout",
     "output_type": "stream",
     "text": [
      "always,juice,karl,mango\n"
     ]
    }
   ],
   "source": [
    "\n",
    "# Challenge 1: Sorting\n",
    "\n",
    "# Instructions\n",
    "\n",
    "# (1) Write a program that accepts a comma separated sequence of words as input and prints the words in a comma-separated sequence after sorting them alphabetically.\n",
    "# (2) Use List Comprehension\n",
    "# Example:\n",
    "\n",
    "# Suppose the following input is supplied to the program: without, hello, bag, world\n",
    "# Then, the output should be: bag, hello,without,world\n",
    "\n",
    "string = input('Enter a coma seperated sequence of words: ')\n",
    "sorted_string = [x for x in sorted(string.split(','))]\n",
    "\n",
    "print(*sorted_string, sep =',')\n"
   ]
  },
  {
   "cell_type": "code",
   "execution_count": 32,
   "metadata": {},
   "outputs": [
    {
     "data": {
      "text/plain": [
       "'Jean-philippe'"
      ]
     },
     "execution_count": 32,
     "metadata": {},
     "output_type": "execute_result"
    }
   ],
   "source": [
    "# Challenge 2 : Longest Word\n",
    "\n",
    "# Instructions\n",
    "\n",
    "# (1) Write a function that finds the longest word in a sentence. If two or more words are found, return the first longest word.\n",
    "# Characters such as apostrophe, comma, period count as part of the word (e.g. O’Connor is 8 characters long).\n",
    "# Examples\n",
    "\n",
    "# longest_word(\"Margaret's toy is a pretty doll.\") ➞ \"Margaret's\"\n",
    "\n",
    "# longest_word(\"A thing of beauty is a joy forever.\") ➞ \"forever.\"\n",
    "\n",
    "# longest_word(\"Forgetfulness is by all means powerless!\") ➞ \"Forgetfulness\"\n",
    "\n",
    "\n",
    "def longest_word():\n",
    "    user_input = input(\"Enter a sentence of your choice: \")\n",
    "    new_list = user_input.split(\" \")\n",
    "    longest_word = max(new_list, key = len)\n",
    "    return longest_word\n",
    "\n",
    "longest_word()"
   ]
  }
 ],
 "metadata": {
  "kernelspec": {
   "display_name": "Python 3",
   "language": "python",
   "name": "python3"
  },
  "language_info": {
   "codemirror_mode": {
    "name": "ipython",
    "version": 3
   },
   "file_extension": ".py",
   "mimetype": "text/x-python",
   "name": "python",
   "nbconvert_exporter": "python",
   "pygments_lexer": "ipython3",
   "version": "3.12.3"
  }
 },
 "nbformat": 4,
 "nbformat_minor": 2
}

{
 "cells": [
  {
   "cell_type": "code",
   "execution_count": 23,
   "metadata": {},
   "outputs": [
    {
     "name": "stdout",
     "output_type": "stream",
     "text": [
      "A new car has been initialized.\n"
     ]
    },
    {
     "data": {
      "text/plain": [
       "<__main__.Car at 0x106713470>"
      ]
     },
     "execution_count": 23,
     "metadata": {},
     "output_type": "execute_result"
    }
   ],
   "source": [
    "# Code testing\n",
    "\n",
    "class Car:\n",
    "    def __init__(self, color, age):\n",
    "        self.color = color\n",
    "        self.age = age\n",
    "        print('A new car has been initialized.')\n",
    "    \n",
    "Car('red', \"3\")"
   ]
  },
  {
   "cell_type": "code",
   "execution_count": 24,
   "metadata": {},
   "outputs": [
    {
     "name": "stdout",
     "output_type": "stream",
     "text": [
      "\n",
      "\n",
      "\n",
      " Karl $15\n",
      "\n",
      "\n",
      " Total price: $ 15 \n",
      "\n"
     ]
    }
   ],
   "source": [
    "family = {}\n",
    "\n",
    "while True:\n",
    "    name = input('\\n Enter your name: ')\n",
    "    age = int(input(' Enter your age: '))\n",
    "    next = input(' Continue? y/n: ')\n",
    "    family[name] = age\n",
    "\n",
    "    if next == 'n':\n",
    "        break\n",
    "\n",
    "children_price = 0\n",
    "adult_price = 0\n",
    "\n",
    "print('\\n')\n",
    "for key, value in family.items():\n",
    "    if value < 3:\n",
    "        print('\\n', key.capitalize(), 'Free')\n",
    "    elif 3 < value < 12:\n",
    "        children_price += 10\n",
    "        print('\\n', key.capitalize(), '$10')\n",
    "    else:\n",
    "        adult_price += 15\n",
    "        print('\\n', key.capitalize(), '$15')\n",
    "\n",
    "total_price = children_price + adult_price\n",
    "\n",
    "print('\\n')\n",
    "print(' Total price: $', total_price, '\\n')"
   ]
  }
 ],
 "metadata": {
  "kernelspec": {
   "display_name": "Python 3",
   "language": "python",
   "name": "python3"
  },
  "language_info": {
   "codemirror_mode": {
    "name": "ipython",
    "version": 3
   },
   "file_extension": ".py",
   "mimetype": "text/x-python",
   "name": "python",
   "nbconvert_exporter": "python",
   "pygments_lexer": "ipython3",
   "version": "3.12.3"
  }
 },
 "nbformat": 4,
 "nbformat_minor": 2
}

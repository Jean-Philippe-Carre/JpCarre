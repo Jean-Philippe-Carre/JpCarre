{
 "cells": [
  {
   "cell_type": "code",
   "execution_count": 4,
   "metadata": {},
   "outputs": [
    {
     "name": "stdout",
     "output_type": "stream",
     "text": [
      "I am learning to code Html, Css, Python and Javascript.\n"
     ]
    }
   ],
   "source": [
    "# Exercise 1:\n",
    "\n",
    "# (1) Write a function called display_message() that prints one sentence telling everyone what you are learning in this course.\n",
    "# (2) Call the function, and make sure the message displays correctly.\n",
    "\n",
    "def display_message(subject1, subject2, subject3, subject4):\n",
    "    print(f\"I am learning to code {subject1.capitalize()}, {\n",
    "          subject2.capitalize()}, {subject3.capitalize()} and {subject4.capitalize()}.\")\n",
    "\n",
    "display_message('html', \"css\", \"python\", \"javascript\")"
   ]
  },
  {
   "cell_type": "code",
   "execution_count": 1,
   "metadata": {},
   "outputs": [
    {
     "name": "stdout",
     "output_type": "stream",
     "text": [
      "One of my favorite books is Alice in wonderland.\n"
     ]
    }
   ],
   "source": [
    "# Exercise 2:\n",
    "\n",
    "# (1) Write a function called favorite_book() that accepts one parameter called title.\n",
    "# (2) The function should print a message, such as \"One of my favorite books is <title>\".\n",
    "# For example: “One of my favorite books is Alice in Wonderland”\n",
    "# (3) Call the function, make sure to include a book title as an argument when calling the function.\n",
    "\n",
    "def favorite_book(title):\n",
    "    print(f\"One of my favorite books is {title.capitalize()}.\")\n",
    "\n",
    "favorite_book(\"alice in wonderland\")"
   ]
  },
  {
   "cell_type": "code",
   "execution_count": 2,
   "metadata": {},
   "outputs": [
    {
     "name": "stdout",
     "output_type": "stream",
     "text": [
      "Port-louis is in Mauritius\n"
     ]
    }
   ],
   "source": [
    "\n",
    "# Exercise 3:\n",
    "\n",
    "# (1) Write a function called describe_city() that accepts the name of a city and its country as parameters.\n",
    "# (2) The function should print a simple sentence, such as \"<city> is in <country>\".\n",
    "# (3) For example “Reykjavik is in Iceland”\n",
    "# (4) Give the country parameter a default value.\n",
    "# Call your function.\n",
    "\n",
    "def describe_city(city, country = \"mauritius\"):\n",
    "    print(f\"{city.capitalize()} is in {country.capitalize()}\")\n",
    "\n",
    "describe_city(\"port-louis\")"
   ]
  },
  {
   "cell_type": "code",
   "execution_count": 8,
   "metadata": {},
   "outputs": [
    {
     "name": "stdout",
     "output_type": "stream",
     "text": [
      "The computer's number is 26\n",
      "Wrong guess...your number is 23, and the computer's number is 26\n"
     ]
    }
   ],
   "source": [
    "# Exercise 4:\n",
    "\n",
    "# (1) Create a function that accepts a number between 1 and 100 and generates another number randomly between 1 and 100.\n",
    "# Compare the two numbers, if it’s the same number, display a success message, otherwise show a fail message and display both numbers.\n",
    "\n",
    "import random\n",
    "def random_number():\n",
    "    while True:\n",
    "        user_input = int(input(\"Enter a number between 1 and 100 please:\"))\n",
    "        if 1 < user_input < 100:\n",
    "            break            \n",
    "       \n",
    "    number = random.randint(1, 100)\n",
    "    print(f\"The computer\\'s number is {number}\")\n",
    "    if user_input == number:\n",
    "        print(f\"Congrats!! you have guessed the correct number!!\")\n",
    "    else:\n",
    "        print(f\"Wrong guess...your number is {user_input}, and the computer\\'s number is {number}\")    \n",
    "\n",
    "random_number()"
   ]
  },
  {
   "cell_type": "code",
   "execution_count": 22,
   "metadata": {},
   "outputs": [
    {
     "name": "stdout",
     "output_type": "stream",
     "text": [
      "Function with user input values:\n",
      "  The size of the shirt is Medium and the text is hello world!.\n",
      "Function with default parameters:\n",
      "  The size of the shirt is large and the text is I love Python.\n",
      "Function with user input size and default text:\n",
      "  The size of the shirt is medium and the text is I love Python.\n",
      "Function with user input size and different text:\n",
      "  The size of the shirt is small and the text is I prefer Javascript.\n"
     ]
    }
   ],
   "source": [
    "# Exercise 5:\n",
    "\n",
    "# (1) Write a function called make_shirt() that accepts a size and the text of a message that should be printed on the shirt.\n",
    "# (2) The function should print a sentence summarizing the size of the shirt and the message printed on it, such as \"The size of the shirt is <size> and the text is <text>\"\n",
    "# (3) Call the function make_shirt().\n",
    "\n",
    "# (4) Modify the make_shirt() function so that shirts are large by default with a message that reads “I love Python” by default.\n",
    "# (5) Make a large shirt with the default message\n",
    "# (6) Make medium shirt with the default message\n",
    "# (7) Make a shirt of any size with a different message.\n",
    "\n",
    "# (8) Bonus: Call the function make_shirt() using keyword arguments.\n",
    "\n",
    "def make_shirt( size = 'large', text = \"I love Python\"):\n",
    "    print(f\"  The size of the shirt is {size} and the text is {text}.\")\n",
    "\n",
    "print('Function with user input values:')\n",
    "make_shirt('Medium', \"hello world!\")\n",
    "\n",
    "print('Function with default parameters:')\n",
    "make_shirt()\n",
    "\n",
    "print('Function with user input size and default text:')\n",
    "make_shirt('medium')\n",
    "\n",
    "print('Function with user input size and different text:')\n",
    "make_shirt(\"small\", \"I prefer Javascript\")\n"
   ]
  },
  {
   "cell_type": "code",
   "execution_count": 77,
   "metadata": {},
   "outputs": [
    {
     "name": "stdout",
     "output_type": "stream",
     "text": [
      "Harry Houdini\n",
      "David Blaine\n",
      "Criss Angel\n",
      "--------\n",
      "['The Great Harry Houdini', 'The Great David Blaine', 'The Great Criss Angel']\n",
      "--------\n",
      "The Great Harry Houdini\n",
      "The Great David Blaine\n",
      "The Great Criss Angel\n"
     ]
    }
   ],
   "source": [
    "# Exercise 6:\n",
    "\n",
    "# (1) Using this list of magician’s names. magician_names = ['Harry Houdini', 'David Blaine', 'Criss Angel']\n",
    "# (2) Pass the list to a function called show_magicians(), which prints the name of each magician in the list.\n",
    "# (3) Write a function called make_great() that modifies the list of magicians by adding the phrase \"the Great\" to each magician’s name.\n",
    "# (4) Call the function make_great().\n",
    "# (5) Call the function show_magicians() to see that the list has actually been modified.\n",
    "\n",
    "magician_names = ['Harry Houdini', 'David Blaine', 'Criss Angel']\n",
    "\n",
    "def show_magicians():\n",
    "    for name in magician_names:\n",
    "        print(name)\n",
    "\n",
    "show_magicians()\n",
    "print(\"--------\")\n",
    "\n",
    "def make_great(add_string, names):\n",
    "    modified_names = [add_string + name for name in names]\n",
    "    return modified_names\n",
    "    \n",
    "magician_names = make_great('The Great ', magician_names)\n",
    "print(magician_names)  \n",
    "print(\"--------\")\n",
    "show_magicians()"
   ]
  }
 ],
 "metadata": {
  "kernelspec": {
   "display_name": "Python 3",
   "language": "python",
   "name": "python3"
  },
  "language_info": {
   "codemirror_mode": {
    "name": "ipython",
    "version": 3
   },
   "file_extension": ".py",
   "mimetype": "text/x-python",
   "name": "python",
   "nbconvert_exporter": "python",
   "pygments_lexer": "ipython3",
   "version": "3.12.3"
  }
 },
 "nbformat": 4,
 "nbformat_minor": 2
}

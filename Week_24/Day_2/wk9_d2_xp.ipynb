{
 "cells": [
  {
   "cell_type": "code",
   "execution_count": null,
   "metadata": {},
   "outputs": [],
   "source": [
    "# EXERCISE 1:\n",
    "\n",
    "# Instructions: Identifying the Time Complexity for each of the below programs\n",
    "\n",
    "# Snippet 1\n",
    "for i in range(10):\n",
    "    print(i)\n",
    "# Answer: O(n) \n",
    "\n",
    "# Snippet 2\n",
    "for i in range(n):\n",
    "    for j in range(n):\n",
    "        print(i, j)\n",
    "# Answer: O(n^2)\n",
    "\n",
    "# Snippet 3\n",
    "i = 1\n",
    "while i < n:\n",
    "    i *= 2\n",
    "    print(i)\n",
    "# Answer: O(log n)\n",
    "\n"
   ]
  },
  {
   "cell_type": "code",
   "execution_count": 3,
   "metadata": {},
   "outputs": [
    {
     "name": "stdout",
     "output_type": "stream",
     "text": [
      "Sorted list: [1, 2, 5, 5, 6, 9]\n"
     ]
    }
   ],
   "source": [
    "# EXERCISE 2:\n",
    "\n",
    "# https://octopus.developers.institute/courses/collection/106/course/351/section/893/chapter/3020#\n",
    "\n",
    "numbers = [5, 2, 9, 1, 5, 6]\n",
    "\n",
    "def insertion_sort(numbers):\n",
    "    for i in range(1, len(numbers)):\n",
    "        key = numbers[i]\n",
    "        j = i - 1\n",
    "        while j >= 0 and key < numbers[j]:\n",
    "            numbers[j + 1] = numbers[j]\n",
    "            j -= 1\n",
    "        numbers[j + 1] = key\n",
    "    return numbers\n",
    "\n",
    "sorted_numbers = insertion_sort(numbers)\n",
    "print(\"Sorted list:\", sorted_numbers)\n",
    "\n",
    "# Answer: Since there is a loop inside a loop, the Time complexity is: O(n^2)"
   ]
  },
  {
   "cell_type": "code",
   "execution_count": 3,
   "metadata": {},
   "outputs": [
    {
     "name": "stdout",
     "output_type": "stream",
     "text": [
      "3\n"
     ]
    }
   ],
   "source": [
    "# EXERCISE 3: Understanding Binary Search\n",
    "\n",
    "# https://octopus.developers.institute/courses/collection/106/course/351/section/893/chapter/3020#\n",
    "\n",
    "\n",
    "numbers = [1, 3, 5, 7, 9, 11]\n",
    "target = 7\n",
    "\n",
    "def binary_search(arr, target):\n",
    "    low = 0\n",
    "    high = len(arr) - 1\n",
    "\n",
    "    while low <= high:\n",
    "        mid = (low + high) // 2\n",
    "\n",
    "        if arr[mid] == target:\n",
    "            return mid  \n",
    "        elif arr[mid] < target:\n",
    "            low = mid + 1  \n",
    "        else:\n",
    "            high = mid - 1  \n",
    "    return -1  \n",
    "\n",
    "index = binary_search(numbers, target)\n",
    "print(index)\n",
    "\n",
    "\n",
    "# Time complexity is: O(log n)\n",
    "\n"
   ]
  }
 ],
 "metadata": {
  "kernelspec": {
   "display_name": "Python 3",
   "language": "python",
   "name": "python3"
  },
  "language_info": {
   "codemirror_mode": {
    "name": "ipython",
    "version": 3
   },
   "file_extension": ".py",
   "mimetype": "text/x-python",
   "name": "python",
   "nbconvert_exporter": "python",
   "pygments_lexer": "ipython3",
   "version": "3.12.3"
  }
 },
 "nbformat": 4,
 "nbformat_minor": 2
}

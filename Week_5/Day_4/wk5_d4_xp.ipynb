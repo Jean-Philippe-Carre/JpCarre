{
 "cells": [
  {
   "cell_type": "code",
   "execution_count": 126,
   "metadata": {},
   "outputs": [
    {
     "name": "stdout",
     "output_type": "stream",
     "text": [
      "The temperature right now is 5 degrees celsius.\n",
      "Quite chilly! Don't forget your coat.\n"
     ]
    }
   ],
   "source": [
    "# Exercise 1 : Temperature Advice\n",
    "\n",
    "# Instructions\n",
    "\n",
    "# (1) Create a function called get_random_temp().\n",
    "# This function should return an integer between -10 and 40 degrees (Celsius), selected at random.\n",
    "# Test your function to make sure it generates expected results.\n",
    "\n",
    "# (2) Create a function called main().\n",
    "# Inside this function, call get_random_temp() to get a temperature, and store its value in a variable.\n",
    "# Inform the user of the temperature in a friendly message, eg. “The temperature right now is 32 degrees Celsius.”\n",
    "\n",
    "# (3) Let’s add more functionality to the main() function. Write some friendly advice relating to the temperature:\n",
    "# below zero (eg. “Brrr, that’s freezing! Wear some extra layers today”)\n",
    "# between zero and 16 (eg. “Quite chilly! Don’t forget your coat”)\n",
    "# between 16 and 23\n",
    "# between 24 and 32\n",
    "# between 32 and 40\n",
    "\n",
    "import random \n",
    "\n",
    "def main():\n",
    "    temp = get_random_temp()\n",
    "    print(f\"The temperature right now is {temp} degrees celsius.\")\n",
    "\n",
    "    if temp <= 0:\n",
    "        print(\"Brrrr, that's freezin! Wear some extra layers today.\")\n",
    "    elif 0 < temp < 16:\n",
    "        print(\"Quite chilly! Don't forget your coat.\")\n",
    "    elif 16 < temp < 23:\n",
    "        print(\"Hmmm...starting to warm up, niiice...\")\n",
    "    elif 24 < temp < 32:\n",
    "        print(\"Summer babyyyyyyyyy!!!\")\n",
    "    else: \n",
    "        print(\"Fuck this, i'm going to the north pole!!\")\n",
    "\n",
    "\n",
    "def get_random_temp():\n",
    "    return random.randint(-10, 40)\n",
    "\n",
    "main()"
   ]
  },
  {
   "cell_type": "code",
   "execution_count": null,
   "metadata": {},
   "outputs": [
    {
     "name": "stdout",
     "output_type": "stream",
     "text": [
      "The season is fall and the temperature is between 17 & 22.\n"
     ]
    }
   ],
   "source": [
    "# (4) Change the get_random_temp() function:\n",
    "#     (a) Add a parameter to the function, named ‘season’.\n",
    "#     (b) Inside the function, instead of simply generating a random number between -10 and 40, set lower and upper limits based on the season, eg. if season is ‘winter’, temperatures should only fall between -10 and 16.\n",
    "#     (c) Now that we’ve changed get_random_temp(), let’s change the main() function:\n",
    "#         (i) Before calling get_random_temp(), we will need to decide on a season, so that we can call the function correctly. Ask the user to type in a season - ‘summer’, ‘autumn’ (you can use ‘fall’ if you prefer), ‘winter’, or ‘spring’.\n",
    "#         (ii) Use the season as an argument when calling get_random_temp().\n",
    "\n",
    "def main():\n",
    "    season = input(\"Enter a season: \")\n",
    "    get_random_temp(season)\n",
    "\n",
    "def get_random_temp(season):\n",
    "    if season == \"winter\":\n",
    "        print(f\"The season is {season} and the temperature is between -10 & 16.\")\n",
    "    elif season == \"spring\":\n",
    "        print(f\"The season is {season} and the temperature is between 17 & 22.\")\n",
    "    elif season == \"summer\":\n",
    "        print(f\"The season is {season} and the temperature is between 23 & 40.\")\n",
    "    elif season == \"fall\":\n",
    "        print(f\"The season is {season} and the temperature is between 17 & 22.\")\n",
    "\n",
    "\n",
    "main()"
   ]
  },
  {
   "cell_type": "code",
   "execution_count": null,
   "metadata": {},
   "outputs": [
    {
     "name": "stdout",
     "output_type": "stream",
     "text": [
      "November is in fall.\n"
     ]
    }
   ],
   "source": [
    "# (5) Bonus: Instead of asking for the season, ask the user for the number of the month (1 = January, 12 = December). Determine the season according to the month.\n",
    "\n",
    "def main():\n",
    "    user_input = int(input(\"Enter a number for month, ex: 1 for january, 2 for february, etc...: \"))\n",
    "    get_random_temp(user_input)\n",
    "\n",
    "def get_random_temp(user_input):\n",
    "    winter = [12, 1, 2]\n",
    "    spring = [3, 4, 5]\n",
    "    summer = [6, 7, 8]\n",
    "    fall = [9, 10, 11]\n",
    "\n",
    "    months = {\n",
    "        1: \"January\",\n",
    "        2: \"February\",\n",
    "        3: \"March\",\n",
    "        4: \"April\",\n",
    "        5: \"May\",\n",
    "        6: \"June\",\n",
    "        7: \"July\",\n",
    "        8: \"August\",\n",
    "        9: \"September\",\n",
    "        10: \"October\",\n",
    "        11: \"November\",\n",
    "        12: \"December\"\n",
    "    }\n",
    "\n",
    "    if user_input in winter:\n",
    "        print(f\"{months[user_input]} is in winter.\")\n",
    "    if user_input in spring:\n",
    "        print(f\"{months[user_input]} is in spring.\")\n",
    "    if user_input in summer:\n",
    "        print(f\"{months[user_input]} is in summer.\")\n",
    "    if user_input in fall:\n",
    "        print(f\"{months[user_input]} is in fall.\")\n",
    "\n",
    "main()"
   ]
  },
  {
   "cell_type": "code",
   "execution_count": null,
   "metadata": {},
   "outputs": [],
   "source": []
  }
 ],
 "metadata": {
  "kernelspec": {
   "display_name": "Python 3",
   "language": "python",
   "name": "python3"
  },
  "language_info": {
   "codemirror_mode": {
    "name": "ipython",
    "version": 3
   },
   "file_extension": ".py",
   "mimetype": "text/x-python",
   "name": "python",
   "nbconvert_exporter": "python",
   "pygments_lexer": "ipython3",
   "version": "3.12.3"
  }
 },
 "nbformat": 4,
 "nbformat_minor": 2
}

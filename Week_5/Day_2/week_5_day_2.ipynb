{
 "cells": [
  {
   "cell_type": "markdown",
   "metadata": {},
   "source": [
    "<H5>Week 5, Day 2, Exercise_XP</h5>"
   ]
  },
  {
   "cell_type": "code",
   "execution_count": 129,
   "metadata": {},
   "outputs": [
    {
     "name": "stdout",
     "output_type": "stream",
     "text": [
      "Garfield\n",
      "7\n",
      "The oldest cat is Garfield, whose age is 7 years old.\n"
     ]
    }
   ],
   "source": [
    "# Exercise 1 - Cats\n",
    "\n",
    "# cat_class.py\n",
    "class Cat:\n",
    "    def __init__(self, name, age):\n",
    "        self.name = name\n",
    "        self.age = age\n",
    "        \n",
    "# main.py\n",
    "# from cat_class import Cat\n",
    "\n",
    "\n",
    "cat1 = Cat(\"Garfield\", 7)\n",
    "cat2 = Cat(\"Tommy\", 5)\n",
    "cat3 = Cat(\"Ginger\", 2)\n",
    "\n",
    "from functools import reduce\n",
    "\n",
    "def oldest_age(*cats):\n",
    "    return reduce(lambda x, y: x if x.age > y.age else y, cats)\n",
    "\n",
    "oldest_cat = oldest_age(cat1, cat2, cat3)\n",
    "\n",
    "print(oldest_cat.name)\n",
    "print(oldest_cat.age)\n",
    "print(f'The oldest cat is {oldest_cat.name}, whose age is {oldest_cat.age} years old.')"
   ]
  },
  {
   "cell_type": "code",
   "execution_count": 31,
   "metadata": {},
   "outputs": [
    {
     "name": "stdout",
     "output_type": "stream",
     "text": [
      "Gypsy goes woof!\n",
      "Gypsy jumps 50 cm high!\n",
      "-------\n",
      "Rex\n",
      "50\n",
      "Rex goes woof!\n",
      "Rex jumps 100 cm high!\n",
      "-------\n",
      "Teacup\n",
      "30\n",
      "Teacup goes woof!\n",
      "Teacup jumps 60 cm high!\n",
      "-------\n",
      "Rex is the biggest dog!\n"
     ]
    }
   ],
   "source": [
    "# Exercise 2 - Dogs\n",
    "\n",
    "# dog_class.py\n",
    "class Dog:\n",
    "    def __init__(self, name, height):\n",
    "        self.name = name\n",
    "        self.height = height    \n",
    "\n",
    "    def info(self):\n",
    "        print(self.name)\n",
    "        print(self.height)\n",
    "\n",
    "    def bark(self):\n",
    "        print(self.name, 'goes woof!')\n",
    "\n",
    "    def jump(self):\n",
    "        print(self.name, \"jumps\", self.height*2,\"cm high!\")\n",
    "\n",
    "#main.py\n",
    "# from dog_class import Dog \n",
    "\n",
    "dog = Dog(\"Gypsy\", 25)\n",
    "davids_dog = Dog(\"Rex\", 50)\n",
    "sarahs_dog = Dog(\"Teacup\", 30)\n",
    "\n",
    "dog.bark()\n",
    "dog.jump()\n",
    "\n",
    "print('-------')\n",
    "\n",
    "davids_dog.info()\n",
    "davids_dog.bark()\n",
    "davids_dog.jump()\n",
    "\n",
    "print('-------')\n",
    "\n",
    "sarahs_dog.info()\n",
    "sarahs_dog.bark()\n",
    "sarahs_dog.jump()\n",
    "\n",
    "print('-------')\n",
    "\n",
    "from functools import reduce\n",
    "\n",
    "def biggest_dog(*dogs):\n",
    "    return reduce(lambda x,y: x if x.height > y.height else y, dogs)\n",
    "\n",
    "biggest_dog = biggest_dog(dog, davids_dog, sarahs_dog)\n",
    "\n",
    "print(biggest_dog.name,'is the biggest dog!')"
   ]
  },
  {
   "cell_type": "code",
   "execution_count": 34,
   "metadata": {},
   "outputs": [
    {
     "name": "stdout",
     "output_type": "stream",
     "text": [
      "There's a lady who's sure\n",
      "all that glitters is gold\n",
      "and she's buying a stairway to heaven\n"
     ]
    }
   ],
   "source": [
    "# Exercise 3 - Song producer\n",
    "\n",
    "# song_class.py\n",
    "class Song():\n",
    "    def __init__(self, lyrics):\n",
    "        self.lyrics = lyrics\n",
    "        \n",
    "    def sing_me_a_song(self):\n",
    "        for line in self.lyrics:\n",
    "            print(line)\n",
    "        \n",
    "# main.py\n",
    "# from song_class import Song\n",
    "\n",
    "stairway = Song([\"There's a lady who's sure\",\"all that glitters is gold\", \"and she's buying a stairway to heaven\"])\n",
    "\n",
    "stairway.sing_me_a_song()"
   ]
  },
  {
   "cell_type": "code",
   "execution_count": 133,
   "metadata": {},
   "outputs": [
    {
     "name": "stdout",
     "output_type": "stream",
     "text": [
      "Party Animals\n",
      "-----\n",
      "['Cougar', 'Emu', 'Ape', 'Baboon', 'Cat', 'Eel', 'Bear', 'Snake']\n",
      "-----\n",
      "Snake sold\n",
      "['Cougar', 'Emu', 'Ape', 'Baboon', 'Cat', 'Eel', 'Bear']\n",
      "-----\n",
      "Sorting Animals\n",
      "['Ape', 'Baboon', 'Bear', 'Cat', 'Cougar', 'Eel', 'Emu']\n"
     ]
    }
   ],
   "source": [
    "# Exercise 4 - Afternoon at the Zoo\n",
    "\n",
    "# zoo_class.py\n",
    "class Zoo():\n",
    "    def __init__(self, zoo_name, animals):\n",
    "        self.animals = animals\n",
    "        self.zoo_name = zoo_name\n",
    "        self.animals = []\n",
    "\n",
    "    def add_animal(self, new_animal):\n",
    "        self.new_animal = new_animal\n",
    "        self.animals.extend(new_animal)\n",
    "\n",
    "    def get_animals(self):\n",
    "        return self.animals\n",
    "    \n",
    "    def sell_animal(self, animal_sold):\n",
    "        self.animal_sold = animal_sold\n",
    "        self.animals.remove(animal_sold)\n",
    "\n",
    "    def sort_animals(self):\n",
    "        self.animals.sort()\n",
    "\n",
    "# main.py\n",
    "# from zoo_class import Zoo\n",
    "\n",
    "ramat_gan_safari = Zoo('Party Animals', 'Animals')\n",
    "\n",
    "print(ramat_gan_safari.zoo_name)\n",
    "print('-----')\n",
    "\n",
    "ramat_gan_safari.add_animal(['Cougar', 'Emu', 'Ape', 'Baboon', 'Cat', 'Eel', 'Bear', 'Snake'])\n",
    "print(ramat_gan_safari.get_animals())\n",
    "print('-----')\n",
    "\n",
    "print('Snake sold')\n",
    "ramat_gan_safari.sell_animal('Snake')\n",
    "print(ramat_gan_safari.get_animals())\n",
    "print('-----')\n",
    "\n",
    "print('Sorting Animals')        \n",
    "ramat_gan_safari.sort_animals()\n",
    "print(ramat_gan_safari.get_animals())"
   ]
  },
  {
   "cell_type": "code",
   "execution_count": null,
   "metadata": {},
   "outputs": [],
   "source": [
    "list = ['ape', 'baboon', 'monkey']\n",
    "list = dict(zip( ,list))\n",
    "\n",
    "print(dict)"
   ]
  }
 ],
 "metadata": {
  "kernelspec": {
   "display_name": "Python 3",
   "language": "python",
   "name": "python3"
  },
  "language_info": {
   "codemirror_mode": {
    "name": "ipython",
    "version": 3
   },
   "file_extension": ".py",
   "mimetype": "text/x-python",
   "name": "python",
   "nbconvert_exporter": "python",
   "pygments_lexer": "ipython3",
   "version": "3.12.3"
  }
 },
 "nbformat": 4,
 "nbformat_minor": 2
}

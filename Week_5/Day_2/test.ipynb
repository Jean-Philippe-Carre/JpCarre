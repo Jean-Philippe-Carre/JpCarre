{
 "cells": [
  {
   "cell_type": "code",
   "execution_count": 14,
   "metadata": {},
   "outputs": [
    {
     "name": "stdout",
     "output_type": "stream",
     "text": [
      "Garfield\n",
      "Ginger\n",
      "Tiger\n",
      "--------\n",
      "5\n",
      "7\n",
      "3\n",
      "--------\n",
      "I have 3 cats, Garfield, Ginger and Tiger, and they are respectively 5, 7 and 3 years old.\n",
      "--------\n"
     ]
    },
    {
     "ename": "NameError",
     "evalue": "name 'args' is not defined",
     "output_type": "error",
     "traceback": [
      "\u001b[0;31m---------------------------------------------------------------------------\u001b[0m",
      "\u001b[0;31mNameError\u001b[0m                                 Traceback (most recent call last)",
      "Cell \u001b[0;32mIn[14], line 25\u001b[0m\n\u001b[1;32m     23\u001b[0m \u001b[38;5;28;01mdef\u001b[39;00m \u001b[38;5;21moldest_cat\u001b[39m(\u001b[38;5;241m*\u001b[39mcat):\n\u001b[1;32m     24\u001b[0m     \u001b[38;5;28;01mreturn\u001b[39;00m reduce(\u001b[38;5;28;01mlambda\u001b[39;00m x, y: x \u001b[38;5;28;01mif\u001b[39;00m x \u001b[38;5;241m>\u001b[39m y \u001b[38;5;28;01melse\u001b[39;00m y, cat)\n\u001b[0;32m---> 25\u001b[0m oldest_cat \u001b[38;5;241m=\u001b[39m oldest_cat(\u001b[38;5;241m*\u001b[39m\u001b[43margs\u001b[49m)\n\u001b[1;32m     27\u001b[0m \u001b[38;5;28mprint\u001b[39m(\u001b[38;5;124m\"\u001b[39m\u001b[38;5;132;01m{oldest_cat.name}\u001b[39;00m\u001b[38;5;124m is the oldest cat and it is \u001b[39m\u001b[38;5;132;01m{oldest_cat.age}\u001b[39;00m\u001b[38;5;124m years old.\u001b[39m\u001b[38;5;124m\"\u001b[39m)\n",
      "\u001b[0;31mNameError\u001b[0m: name 'args' is not defined"
     ]
    }
   ],
   "source": [
    "class Cat:\n",
    "    def __init__(self, name, age):\n",
    "        self.name = name\n",
    "        self.age = age\n",
    "\n",
    "cat1 = Cat(\"Garfield\", 5)\n",
    "cat2 = Cat(\"Ginger\", 7)\n",
    "cat3 = Cat(\"Tiger\", 3)\n",
    "\n",
    "print(cat1.name)\n",
    "print(cat2.name)\n",
    "print(cat3.name)\n",
    "print('--------')\n",
    "print(cat1.age)\n",
    "print(cat2.age)\n",
    "print(cat3.age)\n",
    "print('--------')\n",
    "print(f'I have 3 cats, {cat1.name}, {cat2.name} and {cat3.name}, and they are respectively {cat1.age}, {cat2.age} and {cat3.age} years old.')\n",
    "print('--------')\n",
    "\n",
    "from functools import reduce\n",
    "\n",
    "def oldest_cat(*cat):\n",
    "    return reduce(lambda x, y: x if x > y else y, cat)\n",
    "oldest_cat = oldest_cat(*args)\n",
    "\n",
    "print(\"{oldest_cat.name} is the oldest cat and it is {oldest_cat.age} years old.\")"
   ]
  }
 ],
 "metadata": {
  "kernelspec": {
   "display_name": "Python 3",
   "language": "python",
   "name": "python3"
  },
  "language_info": {
   "codemirror_mode": {
    "name": "ipython",
    "version": 3
   },
   "file_extension": ".py",
   "mimetype": "text/x-python",
   "name": "python",
   "nbconvert_exporter": "python",
   "pygments_lexer": "ipython3",
   "version": "3.12.3"
  }
 },
 "nbformat": 4,
 "nbformat_minor": 2
}

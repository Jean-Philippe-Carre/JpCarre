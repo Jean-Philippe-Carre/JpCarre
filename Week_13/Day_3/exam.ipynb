{
 "cells": [
  {
   "cell_type": "code",
   "execution_count": null,
   "metadata": {},
   "outputs": [],
   "source": [
    "# Python Basics\n",
    "\n",
    "# Data Types\n",
    "\n",
    "# Which of the following is not a mutable data type in Python?\n",
    "# a) List\n",
    "# b) Dictionary\n",
    "# c) Tuple\n",
    "# d) Set\n",
    "\n",
    "ANS: tuple"
   ]
  },
  {
   "cell_type": "code",
   "execution_count": 7,
   "metadata": {},
   "outputs": [
    {
     "name": "stdout",
     "output_type": "stream",
     "text": [
      "[4, 16, 36, 64, 100]\n"
     ]
    }
   ],
   "source": [
    "# Lists and Loops\n",
    "\n",
    "# Using a list comprehension, generate a list of the squares of numbers from 1 to 10, but only include squares of even numbers.\n",
    "\n",
    "squares_of_even_numbers = [x**2 for x in range(1, 11) if x % 2 == 0]\n",
    "print(squares_of_even_numbers)"
   ]
  },
  {
   "cell_type": "code",
   "execution_count": 12,
   "metadata": {},
   "outputs": [
    {
     "data": {
      "text/plain": [
       "6"
      ]
     },
     "execution_count": 12,
     "metadata": {},
     "output_type": "execute_result"
    }
   ],
   "source": [
    "# Using the range function, create a list of numbers from 1 to 10, then print numbers that are divisible by both 2 and 3.\n",
    "\n",
    "numbers = list(range(1, 11))\n",
    "\n",
    "def divisible_by_2_and_3():\n",
    "    for i in range(1, 11):\n",
    "        if i % 2 == 0 and i % 3 ==0:\n",
    "            return i\n",
    "\n",
    "divisible_by_2_and_3()"
   ]
  },
  {
   "cell_type": "code",
   "execution_count": 13,
   "metadata": {},
   "outputs": [
    {
     "name": "stdout",
     "output_type": "stream",
     "text": [
      "{'name': 'John', 'age': 24}\n",
      "{'name': 'Anna', 'age': 22}\n",
      "{'name': 'Mike', 'age': 25}\n"
     ]
    }
   ],
   "source": [
    "# Loop through the provided list of dictionaries and print the names and ages:\n",
    "\n",
    "student_list = [\n",
    "    {\n",
    "    \"name\": \"John\", \n",
    "    \"age\": 24\n",
    "    }, \n",
    "    {\n",
    "    \"name\": \"Anna\", \n",
    "    \"age\": 22\n",
    "    }, \n",
    "    {\n",
    "    \"name\": \"Mike\", \n",
    "    \"age\": 25\n",
    "    }\n",
    "]\n",
    "\n",
    "for student in student_list:\n",
    "    print(student)"
   ]
  },
  {
   "cell_type": "code",
   "execution_count": null,
   "metadata": {},
   "outputs": [],
   "source": [
    "# Function Behavior with *args and **kwargs\n",
    "\n",
    "# Write a function combine_words that accepts any number of positional arguments and key-value arguments. The function should return a single sentence combining all the words provided.\n",
    "# Example:\n",
    "# print(combine_words(\"Hello\", \"world\", second=\"is\", third=\"great!\", first=\"Python\"))\n",
    "# Expected Output:\n",
    "\n",
    "# \"Hello world. Python is great!\""
   ]
  }
 ],
 "metadata": {
  "kernelspec": {
   "display_name": "Python 3",
   "language": "python",
   "name": "python3"
  },
  "language_info": {
   "codemirror_mode": {
    "name": "ipython",
    "version": 3
   },
   "file_extension": ".py",
   "mimetype": "text/x-python",
   "name": "python",
   "nbconvert_exporter": "python",
   "pygments_lexer": "ipython3",
   "version": "3.12.3"
  }
 },
 "nbformat": 4,
 "nbformat_minor": 2
}
